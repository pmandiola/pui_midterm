{
 "cells": [
  {
   "cell_type": "markdown",
   "metadata": {
    "run_control": {
     "frozen": false,
     "read_only": false
    }
   },
   "source": [
    "#  Investigation of access to green as a function of socioeconomic status\n",
    "\n",
    "The NYC trees are surveyed periodically in the tree census by the NYC parks department. The [latest trees census](https://www.nycgovparks.org/trees/treescount) (the third) occurred between 2015 and 2016. \n",
    "\n",
    "Studies show that access to vegetation has positive physical and psychological health effects on citizens in urban environments, but access to green is generally uneven in different areas of a city. Often more vulnerable sections of the city population (socioe-conomically disadvantaged areas and predominantly minority areas) have less access to natural resources. See for example [this study](\n",
    "https://journals.plos.org/plosone/article?id=10.1371/journal.pone.0122051)\n",
    "\n",
    "This analysis is designed to test the hypothesis that diversity is correlated with access to green resources in NYC. \n",
    "\n",
    "The genral idea is that trees may not be distributed or mainteined in an equitable way by the City. \n",
    "\n",
    "First hint: the data download may take some time - Start downloading the data as soon as possible.\n",
    "\n"
   ]
  },
  {
   "cell_type": "markdown",
   "metadata": {
    "run_control": {
     "frozen": false,
     "read_only": false
    }
   },
   "source": [
    "# Objective: assessing equity in NYC greenery distribution by relating access to greenery to diversity"
   ]
  },
  {
   "cell_type": "markdown",
   "metadata": {
    "run_control": {
     "frozen": false,
     "read_only": false
    }
   },
   "source": [
    "PLEASE SEE THE HINTS TO EACH TASK [here](https://docs.google.com/document/d/1a009HzGw_1j9dlqyD5Zg9aibUgpYmXMlJqiA5XUzZos/edit?usp=sharing) (no points loss for hints!)\n",
    "\n",
    "You will receive points for each of the marked deliverables, *and for your discussion of your findings*. \n",
    "\n",
    "## 1-6 are the data wrangling portion of the exercise, and are worth up to 60% of the points\n",
    "*In the data wrangling portion points are awarded for data processed so that they support the analysis in parts 5-10. This portion is likely going to be the most time consuming.*\n",
    "\n",
    "## 7-11 are the analysis portion of the exercise (including exploratory and visual analysis), and are worth up to 50% of the points \n",
    "*In the data analysis portion points are awarded for correct analysis, conclusions supported by the analysis *and expressed in full sentences*, and plots that support the analysis and conclusions.*\n",
    "\n",
    "*That sums up to 110%, but the maximum grate is reached at 100%. This means you have a better chance to get 100% on your test, and if you exceed 100% the rest will be accounted for as extra credit and help your cumulative score at the end of the semester.*\n",
    "\n",
    "## Data Wrangling (each task is 10% of the points)\n",
    "    1. Download 2015 tree census data data and subsample it to reduce it to a manageable size including only the Manhattan trees (solution for this step is available)\n",
    "\n",
    "    2. Download Download socioeconomic features: ACS 2016 race and ethnicity information for Manhattan aggregated at the Zipcode level (solution for this step is available). \n",
    " \n",
    "    3. Download a NYC (Mahnattan) ZIPCODE shapefile. \n",
    "    \n",
    "    4. Identify the column from the tree census file that describes health of trees.  What kind of variable is this? Remake the plot in step 1 colorcoding the trees by kind of problem. \n",
    "    \n",
    "    5.  Group the tree dataframe by zipcode and calculate theaverage tree health and number of trees per zipcode (solution for this step is available).\n",
    "    \n",
    "    6. Data aggregation task: join the zipcode geodataframe with the population diversity data and with the zipcode level tree statistics. Calculate the number of trees per person by zipcode (solution for this step is available).\n",
    "\n",
    "\n",
    "## Analysis (visual and quantitative)\n",
    "\n",
    "    7. Make a map for each of the variables: population diversity, number of trees per person, average tree health.\n",
    "   \n",
    "    8. Plot the distribution of trees per person, the tree health, and population diversity by zipcode\n",
    "\n",
    "    9. Assess which of these distributions is most consistent with a Gaussian.\n",
    "   \n",
    "    10. Measure correlation between number of trees per person and population diversity and between tree health and population diversity\n",
    "    \n",
    "    11. Based on the result in 10, choose either tree health or trees per person and assess if the distribution of this variable is consistent with the population diversity with a p-value based test.\n",
    "\n",
    "    \n",
    "    ExtraCredit:  A more appropriate analysis would be an analysis of the spatial correlation of these variables. Measure the spatial correlation of number of trees per person and/or of tree health with the population diversity"
   ]
  },
  {
   "cell_type": "code",
   "execution_count": 160,
   "metadata": {},
   "outputs": [
    {
     "name": "stdout",
     "output_type": "stream",
     "text": [
      "Populating the interactive namespace from numpy and matplotlib\n"
     ]
    },
    {
     "name": "stderr",
     "output_type": "stream",
     "text": [
      "/usr/local/Anaconda3-5.0.0-Linux-x86_64/envs/PUI2016_Python3/lib/python3.5/site-packages/IPython/core/magics/pylab.py:161: UserWarning: pylab import has clobbered these variables: ['plt']\n",
      "`%matplotlib` prevents importing * from pylab and numpy\n",
      "  \"\\n`%matplotlib` prevents importing * from pylab and numpy\"\n"
     ]
    }
   ],
   "source": [
    "from __future__ import print_function\n",
    "__author__= 'Pablo Mandiola'\n",
    "\n",
    "import os\n",
    "\n",
    "#Data handling\n",
    "import numpy as np\n",
    "import pandas as pd\n",
    "\n",
    "#Spatial data handling\n",
    "import geopandas as gpd\n",
    "import shapely\n",
    "from fiona.crs import from_epsg\n",
    "\n",
    "#Downloading\n",
    "try:\n",
    "    import urllib2 as urlib\n",
    "except ImportError:\n",
    "    import urllib as urlib\n",
    "import requests\n",
    "\n",
    "#Additional imports for SQL\n",
    "try:\n",
    "    from StringIO import BytesIO as io\n",
    "except ImportError:\n",
    "    from io import BytesIO as io\n",
    "\n",
    "try:\n",
    "    from urllib import urlencode as urlencode\n",
    "except ImportError:\n",
    "    from urllib.parse import urlencode as urlencode\n",
    "    \n",
    "try:\n",
    "    from urllib import urlopen as urlopen\n",
    "except ImportError:\n",
    "    from urllib.request import urlopen as urlopen\n",
    "    \n",
    "try:\n",
    "    from urllib2 import HTTPError as HTTPError\n",
    "except ImportError:\n",
    "    from urllib.error import HTTPError as HTTPError\n",
    "    \n",
    "import ast\n",
    "\n",
    "#Statistics\n",
    "import scipy as sp\n",
    "\n",
    "#For plotting\n",
    "import matplotlib.pylab as plt\n",
    "import seaborn as sns\n",
    "sns.set(context='notebook', style='whitegrid', palette='deep', font='DejaVu Sans', font_scale=1.2, rc=None)\n",
    "%pylab inline"
   ]
  },
  {
   "cell_type": "code",
   "execution_count": 2,
   "metadata": {},
   "outputs": [
    {
     "name": "stdout",
     "output_type": "stream",
     "text": [
      "PUIDATA: /nfshome/pmb434/PUIdata\n"
     ]
    }
   ],
   "source": [
    "puidata = os.getenv(\"PUIDATA\")\n",
    "if puidata is None:\n",
    "    os.environ[\"PUIDATA\"] = \"{}/data/PUIdata\".format(os.getenv(\"HOME\"))\n",
    "    puidata = os.getenv(\"PUIDATA\")\n",
    "    print(\"Warning: PUIDATA environmental variable not found and set by code, please review!\")\n",
    "print(\"PUIDATA: {}\".format(puidata))"
   ]
  },
  {
   "cell_type": "markdown",
   "metadata": {
    "run_control": {
     "frozen": false,
     "read_only": false
    }
   },
   "source": [
    "## 1. Download trees data for the 2015 treea census. (10%)\n",
    "\n",
    "Data can be accessed from the NYC data portal here [this link](https://data.cityofnewyork.us/Environment/2015-Street-Tree-Census-Tree-Data/uvpi-gqnh) for a table or [this link](https://data.cityofnewyork.us/Environment/2015-Street-Tree-Census-Tree-Data/pi5s-9p35) for a map/shapefile.\n",
    "\n",
    "Accessing it through the SODA API as a csv file is probably the most straightforward way.\n",
    "[hints](https://docs.google.com/document/d/1a009HzGw_1j9dlqyD5Zg9aibUgpYmXMlJqiA5XUzZos/edit?usp=sharing)\n",
    "\n",
    "Note that the file is large, and will take some time to read! Start the download right away and then go back to the instructions. \n",
    "You can download the shapefile (large and bandwidth demanding) or a csv (not a geospatial file) and then transform it to a shapefile (you did it in HW 7).\n",
    "If you need help [refer to the hints](https://docs.google.com/document/d/1a009HzGw_1j9dlqyD5Zg9aibUgpYmXMlJqiA5XUzZos/edit?usp=sharing). \n",
    "\n",
    "(Don't forget to move the file to $PUIDATA!)\n",
    " \n",
    "Very important! this dataset is large! over 500k rows! to plot the whole dataset it took me 1/2 minute on the ADRF. \n",
    "\n",
    "Modify your dataframe/geodataframe and select the Manhattan trees only.\n",
    "\n",
    "\n",
    "_Deliverable: a map like the one below._\n",
    "\n",
    "You can find the solution [here](https://serv.cusp.nyu.edu/~fbianco/manTrees.csv) - if you use this solution you will not get the 10 points for this deliverable (but you can go back later to this! and if you do get the solution later you will get the points!). However, this is just a csv file, and to plot it you will still need to create the point coordinates and convert the file to a GeoDataFrame (you did it in HW 7) which will earn you 3 points\n",
    "\n",
    "[hints](https://docs.google.com/document/d/1i9wL8V9jAmyEB7DI309IGtMYXbD4ITlrZhGQyjRaJpI/edit?usp=sharing)"
   ]
  },
  {
   "cell_type": "code",
   "execution_count": 32,
   "metadata": {},
   "outputs": [
    {
     "name": "stdout",
     "output_type": "stream",
     "text": [
      "Downloading file\n",
      "Files in place, please continue\n"
     ]
    }
   ],
   "source": [
    "#Set url and filename for generated file\n",
    "url = 'https://data.cityofnewyork.us/api/views/uvpi-gqnh/rows.csv?accessType=DOWNLOAD'\n",
    "filename = '2015_Street_Tree_Census_-_Tree_Data.csv'\n",
    "\n",
    "#Check if file exists\n",
    "if not os.path.isfile(puidata + \"/\" + filename):\n",
    "    print (\"Downloading file\")\n",
    "    #Use this for some reason instead of curl, maybe because the url doesn't point to a file but generates it\n",
    "    urlib.request.urlretrieve(url, filename)\n",
    "    os.system(\"mv \" + filename + \" \" + puidata)\n",
    "\n",
    "\n",
    "if not os.path.isfile(puidata + \"/\" + filename):\n",
    "    print('Warning: file is not there, something went wrong!')\n",
    "else:\n",
    "    print('Files in place, please continue')"
   ]
  },
  {
   "cell_type": "code",
   "execution_count": 33,
   "metadata": {},
   "outputs": [
    {
     "data": {
      "text/html": [
       "<div>\n",
       "<table border=\"1\" class=\"dataframe\">\n",
       "  <thead>\n",
       "    <tr style=\"text-align: right;\">\n",
       "      <th></th>\n",
       "      <th>tree_id</th>\n",
       "      <th>block_id</th>\n",
       "      <th>created_at</th>\n",
       "      <th>tree_dbh</th>\n",
       "      <th>stump_diam</th>\n",
       "      <th>curb_loc</th>\n",
       "      <th>status</th>\n",
       "      <th>health</th>\n",
       "      <th>spc_latin</th>\n",
       "      <th>spc_common</th>\n",
       "      <th>...</th>\n",
       "      <th>boro_ct</th>\n",
       "      <th>state</th>\n",
       "      <th>latitude</th>\n",
       "      <th>longitude</th>\n",
       "      <th>x_sp</th>\n",
       "      <th>y_sp</th>\n",
       "      <th>council district</th>\n",
       "      <th>census tract</th>\n",
       "      <th>bin</th>\n",
       "      <th>bbl</th>\n",
       "    </tr>\n",
       "  </thead>\n",
       "  <tbody>\n",
       "    <tr>\n",
       "      <th>0</th>\n",
       "      <td>180683</td>\n",
       "      <td>348711</td>\n",
       "      <td>08/27/2015</td>\n",
       "      <td>3</td>\n",
       "      <td>0</td>\n",
       "      <td>OnCurb</td>\n",
       "      <td>Alive</td>\n",
       "      <td>Fair</td>\n",
       "      <td>Acer rubrum</td>\n",
       "      <td>red maple</td>\n",
       "      <td>...</td>\n",
       "      <td>4073900</td>\n",
       "      <td>New York</td>\n",
       "      <td>40.723092</td>\n",
       "      <td>-73.844215</td>\n",
       "      <td>1027431.148</td>\n",
       "      <td>202756.7687</td>\n",
       "      <td>29.0</td>\n",
       "      <td>739.0</td>\n",
       "      <td>4052307.0</td>\n",
       "      <td>4.022210e+09</td>\n",
       "    </tr>\n",
       "    <tr>\n",
       "      <th>1</th>\n",
       "      <td>200540</td>\n",
       "      <td>315986</td>\n",
       "      <td>09/03/2015</td>\n",
       "      <td>21</td>\n",
       "      <td>0</td>\n",
       "      <td>OnCurb</td>\n",
       "      <td>Alive</td>\n",
       "      <td>Fair</td>\n",
       "      <td>Quercus palustris</td>\n",
       "      <td>pin oak</td>\n",
       "      <td>...</td>\n",
       "      <td>4097300</td>\n",
       "      <td>New York</td>\n",
       "      <td>40.794111</td>\n",
       "      <td>-73.818679</td>\n",
       "      <td>1034455.701</td>\n",
       "      <td>228644.8374</td>\n",
       "      <td>19.0</td>\n",
       "      <td>973.0</td>\n",
       "      <td>4101931.0</td>\n",
       "      <td>4.044750e+09</td>\n",
       "    </tr>\n",
       "    <tr>\n",
       "      <th>2</th>\n",
       "      <td>204026</td>\n",
       "      <td>218365</td>\n",
       "      <td>09/05/2015</td>\n",
       "      <td>3</td>\n",
       "      <td>0</td>\n",
       "      <td>OnCurb</td>\n",
       "      <td>Alive</td>\n",
       "      <td>Good</td>\n",
       "      <td>Gleditsia triacanthos var. inermis</td>\n",
       "      <td>honeylocust</td>\n",
       "      <td>...</td>\n",
       "      <td>3044900</td>\n",
       "      <td>New York</td>\n",
       "      <td>40.717581</td>\n",
       "      <td>-73.936608</td>\n",
       "      <td>1001822.831</td>\n",
       "      <td>200716.8913</td>\n",
       "      <td>34.0</td>\n",
       "      <td>449.0</td>\n",
       "      <td>3338310.0</td>\n",
       "      <td>3.028870e+09</td>\n",
       "    </tr>\n",
       "    <tr>\n",
       "      <th>3</th>\n",
       "      <td>204337</td>\n",
       "      <td>217969</td>\n",
       "      <td>09/05/2015</td>\n",
       "      <td>10</td>\n",
       "      <td>0</td>\n",
       "      <td>OnCurb</td>\n",
       "      <td>Alive</td>\n",
       "      <td>Good</td>\n",
       "      <td>Gleditsia triacanthos var. inermis</td>\n",
       "      <td>honeylocust</td>\n",
       "      <td>...</td>\n",
       "      <td>3044900</td>\n",
       "      <td>New York</td>\n",
       "      <td>40.713537</td>\n",
       "      <td>-73.934456</td>\n",
       "      <td>1002420.358</td>\n",
       "      <td>199244.2531</td>\n",
       "      <td>34.0</td>\n",
       "      <td>449.0</td>\n",
       "      <td>3338342.0</td>\n",
       "      <td>3.029250e+09</td>\n",
       "    </tr>\n",
       "    <tr>\n",
       "      <th>4</th>\n",
       "      <td>189565</td>\n",
       "      <td>223043</td>\n",
       "      <td>08/30/2015</td>\n",
       "      <td>21</td>\n",
       "      <td>0</td>\n",
       "      <td>OnCurb</td>\n",
       "      <td>Alive</td>\n",
       "      <td>Good</td>\n",
       "      <td>Tilia americana</td>\n",
       "      <td>American linden</td>\n",
       "      <td>...</td>\n",
       "      <td>3016500</td>\n",
       "      <td>New York</td>\n",
       "      <td>40.666778</td>\n",
       "      <td>-73.975979</td>\n",
       "      <td>990913.775</td>\n",
       "      <td>182202.4260</td>\n",
       "      <td>39.0</td>\n",
       "      <td>165.0</td>\n",
       "      <td>3025654.0</td>\n",
       "      <td>3.010850e+09</td>\n",
       "    </tr>\n",
       "  </tbody>\n",
       "</table>\n",
       "<p>5 rows × 45 columns</p>\n",
       "</div>"
      ],
      "text/plain": [
       "   tree_id  block_id  created_at  tree_dbh  stump_diam curb_loc status health  \\\n",
       "0   180683    348711  08/27/2015         3           0   OnCurb  Alive   Fair   \n",
       "1   200540    315986  09/03/2015        21           0   OnCurb  Alive   Fair   \n",
       "2   204026    218365  09/05/2015         3           0   OnCurb  Alive   Good   \n",
       "3   204337    217969  09/05/2015        10           0   OnCurb  Alive   Good   \n",
       "4   189565    223043  08/30/2015        21           0   OnCurb  Alive   Good   \n",
       "\n",
       "                            spc_latin       spc_common      ...       boro_ct  \\\n",
       "0                         Acer rubrum        red maple      ...       4073900   \n",
       "1                   Quercus palustris          pin oak      ...       4097300   \n",
       "2  Gleditsia triacanthos var. inermis      honeylocust      ...       3044900   \n",
       "3  Gleditsia triacanthos var. inermis      honeylocust      ...       3044900   \n",
       "4                     Tilia americana  American linden      ...       3016500   \n",
       "\n",
       "      state   latitude  longitude         x_sp         y_sp council district  \\\n",
       "0  New York  40.723092 -73.844215  1027431.148  202756.7687             29.0   \n",
       "1  New York  40.794111 -73.818679  1034455.701  228644.8374             19.0   \n",
       "2  New York  40.717581 -73.936608  1001822.831  200716.8913             34.0   \n",
       "3  New York  40.713537 -73.934456  1002420.358  199244.2531             34.0   \n",
       "4  New York  40.666778 -73.975979   990913.775  182202.4260             39.0   \n",
       "\n",
       "  census tract        bin           bbl  \n",
       "0        739.0  4052307.0  4.022210e+09  \n",
       "1        973.0  4101931.0  4.044750e+09  \n",
       "2        449.0  3338310.0  3.028870e+09  \n",
       "3        449.0  3338342.0  3.029250e+09  \n",
       "4        165.0  3025654.0  3.010850e+09  \n",
       "\n",
       "[5 rows x 45 columns]"
      ]
     },
     "execution_count": 33,
     "metadata": {},
     "output_type": "execute_result"
    }
   ],
   "source": [
    "nycTrees = pd.read_csv(puidata + '/' + filename)\n",
    "nycTrees.head()"
   ]
  },
  {
   "cell_type": "code",
   "execution_count": 35,
   "metadata": {},
   "outputs": [
    {
     "data": {
      "text/plain": [
       "Index(['tree_id', 'block_id', 'created_at', 'tree_dbh', 'stump_diam',\n",
       "       'curb_loc', 'status', 'health', 'spc_latin', 'spc_common', 'steward',\n",
       "       'guards', 'sidewalk', 'user_type', 'problems', 'root_stone',\n",
       "       'root_grate', 'root_other', 'trunk_wire', 'trnk_light', 'trnk_other',\n",
       "       'brch_light', 'brch_shoe', 'brch_other', 'address', 'postcode',\n",
       "       'zip_city', 'community board', 'borocode', 'borough', 'cncldist',\n",
       "       'st_assem', 'st_senate', 'nta', 'nta_name', 'boro_ct', 'state',\n",
       "       'latitude', 'longitude', 'x_sp', 'y_sp', 'council district',\n",
       "       'census tract', 'bin', 'bbl'],\n",
       "      dtype='object')"
      ]
     },
     "execution_count": 35,
     "metadata": {},
     "output_type": "execute_result"
    }
   ],
   "source": [
    "nycTrees.columns"
   ]
  },
  {
   "cell_type": "code",
   "execution_count": 39,
   "metadata": {},
   "outputs": [],
   "source": [
    "manTrees = nycTrees.loc[nycTrees.borough == 'Manhattan']"
   ]
  },
  {
   "cell_type": "code",
   "execution_count": 40,
   "metadata": {
    "scrolled": true
   },
   "outputs": [
    {
     "name": "stderr",
     "output_type": "stream",
     "text": [
      "/usr/local/Anaconda3-5.0.0-Linux-x86_64/envs/PUI2016_Python3/lib/python3.5/site-packages/ipykernel/__main__.py:2: SettingWithCopyWarning: \n",
      "A value is trying to be set on a copy of a slice from a DataFrame.\n",
      "Try using .loc[row_indexer,col_indexer] = value instead\n",
      "\n",
      "See the caveats in the documentation: http://pandas.pydata.org/pandas-docs/stable/indexing.html#indexing-view-versus-copy\n",
      "  from ipykernel import kernelapp as app\n",
      "/usr/local/Anaconda3-5.0.0-Linux-x86_64/envs/PUI2016_Python3/lib/python3.5/site-packages/ipykernel/__main__.py:4: SettingWithCopyWarning: \n",
      "A value is trying to be set on a copy of a slice from a DataFrame.\n",
      "Try using .loc[row_indexer,col_indexer] = value instead\n",
      "\n",
      "See the caveats in the documentation: http://pandas.pydata.org/pandas-docs/stable/indexing.html#indexing-view-versus-copy\n"
     ]
    }
   ],
   "source": [
    "#Combine lat long into a tuple column\n",
    "manTrees['lonlat'] = list(zip(manTrees.longitude, manTrees.latitude))\n",
    "#Create Point feature in geometry column\n",
    "manTrees['geometry'] = manTrees.lonlat.apply(lambda x: shapely.geometry.Point(x))\n",
    "#Create GeoDataFrame\n",
    "manTrees = gpd.GeoDataFrame(manTrees)\n",
    "#Set CRS\n",
    "manTrees.crs = from_epsg(4326)"
   ]
  },
  {
   "cell_type": "code",
   "execution_count": 42,
   "metadata": {
    "ExecuteTime": {
     "end_time": "2018-10-28T04:41:27.717604Z",
     "start_time": "2018-10-28T04:41:27.705765Z"
    },
    "run_control": {
     "frozen": false,
     "read_only": false
    }
   },
   "outputs": [
    {
     "data": {
      "text/plain": [
       "(65423, 47)"
      ]
     },
     "execution_count": 42,
     "metadata": {},
     "output_type": "execute_result"
    }
   ],
   "source": [
    "#leave\n",
    "manTrees.shape"
   ]
  },
  {
   "cell_type": "code",
   "execution_count": 210,
   "metadata": {},
   "outputs": [
    {
     "data": {
      "image/png": "[encoded data removed]",
      "text/plain": [
       "<matplotlib.figure.Figure at 0x7f148f3cfc88>"
      ]
     },
     "metadata": {},
     "output_type": "display_data"
    }
   ],
   "source": [
    "#leave \n",
    "ax = manTrees.plot(markersize=0.01, color='green', figsize=(10,10))\n",
    "ax.set_title(\"Figure 1: Location of Manhattan Trees\", fontsize=20)\n",
    "ax.set_ylabel(\"latitude\", fontsize=20)\n",
    "ax.set_xlabel(\"longitude\", fontsize=20);\n",
    "plt.axis(\"off\")\n",
    "plt.show()"
   ]
  },
  {
   "cell_type": "markdown",
   "metadata": {
    "run_control": {
     "frozen": false,
     "read_only": false
    }
   },
   "source": [
    "# 2 Download race and ethnicity information from ACS 2016 for Manhattan aggregate at the Zipcode level. \n",
    "\n",
    "You can start from scratch from [American Fact Finder](https://factfinder.census.gov/faces/nav/jsf/pages/index.xhtml). You can obtain the data through the API directly or prepare the file online at the American Fact Finder site and download it, then upload it to the ADRF (as instructed in HW7). This is time consuming if you are not very familiar with this portal.\n",
    "\n",
    "Alternatively you can choose to download the data with an SQL query from the dta that I uploaded  at https://nyu.carto.com/u/fb55/dataset/acs16  (same points). This is the same kind of SQL query you used in the databases homework (HW6)\n",
    "\n",
    "Measure diversity as percentage of non-white population by zipcode. \n",
    "\n",
    "*_Deliverable: a table as the one below which contains the total population by zipcode and the fraction of non white popultion_* \n",
    "\n",
    "(small differences may occurr dependeing on how you get the data and source it. You do not need to have an error column, but I could not help myself...)\n",
    "\n",
    "\n",
    "You can find the solution [here](https://serv.cusp.nyu.edu/~fbianco/acs16_final.csv) - if you use this solution you will not get the 10 points for this deliverable (but you can go back later to this! and if you do get the solution later you will get the points!). \n",
    "\n",
    "[hints](https://docs.google.com/document/d/1Ps_jXCOdxZyNspVOHdKHbPQWf8WiLTI0bQccMMgNUU8/edit?usp=sharing)"
   ]
  },
  {
   "cell_type": "code",
   "execution_count": 3,
   "metadata": {},
   "outputs": [],
   "source": [
    "#API URL\n",
    "API_URL = 'https://fb55.carto.com:443/api/v2/sql?q='\n",
    "\n",
    "#Query function\n",
    "def queryCartoDB(query, formatting = 'CSV', source = API_URL):\n",
    "    '''queries carto datasets from a given carto account\n",
    "    Arguments: \n",
    "    query - string: a valid sql query string\n",
    "    format - outlut format  OPTIONAL (default CSV)\n",
    "    source - a valid sql api endpoint OPTIONAL (default carto fb55 account)\n",
    "    Returns:\n",
    "    the return of the sql query AS A STRING\n",
    "    NOTES:\n",
    "    designed for the carto API, tested only with CSV return format'''\n",
    "    \n",
    "    \n",
    "    data = urlencode({'format': formatting, 'q': query}).encode(\"utf-8\")\n",
    "    try:\n",
    "        response = urlopen(source, data)\n",
    "        return response.read()\n",
    "    except HTTPError as e:\n",
    "        raise (ValueError('\\n'.join(ast.literal_eval(e.readline())['error'])))\n",
    "        \n",
    "def get_data(query):\n",
    "    try:\n",
    "        return pd.read_csv(io(queryCartoDB(query)), sep = ',')\n",
    "    except ValueError as v:\n",
    "        print (str(v))"
   ]
  },
  {
   "cell_type": "code",
   "execution_count": 219,
   "metadata": {},
   "outputs": [
    {
     "data": {
      "text/html": [
       "<div>\n",
       "<table border=\"1\" class=\"dataframe\">\n",
       "  <thead>\n",
       "    <tr style=\"text-align: right;\">\n",
       "      <th></th>\n",
       "      <th>the_geom</th>\n",
       "      <th>hd02_vd04</th>\n",
       "      <th>the_geom_webmercator</th>\n",
       "      <th>geo_id</th>\n",
       "      <th>geo_id2</th>\n",
       "      <th>geo_display_label</th>\n",
       "      <th>hd01_vd01</th>\n",
       "      <th>hd02_vd01</th>\n",
       "      <th>hd01_vd02</th>\n",
       "      <th>hd02_vd02</th>\n",
       "      <th>...</th>\n",
       "      <th>hd01_vd06</th>\n",
       "      <th>hd02_vd06</th>\n",
       "      <th>hd01_vd07</th>\n",
       "      <th>hd02_vd07</th>\n",
       "      <th>hd01_vd08</th>\n",
       "      <th>hd02_vd08</th>\n",
       "      <th>hd01_vd09</th>\n",
       "      <th>hd02_vd09</th>\n",
       "      <th>hd01_vd10</th>\n",
       "      <th>hd02_vd10</th>\n",
       "    </tr>\n",
       "  </thead>\n",
       "  <tbody>\n",
       "    <tr>\n",
       "      <th>0</th>\n",
       "      <td>NaN</td>\n",
       "      <td>11</td>\n",
       "      <td>NaN</td>\n",
       "      <td>8600000US10464</td>\n",
       "      <td>10464</td>\n",
       "      <td>ZCTA5 10464</td>\n",
       "      <td>4300</td>\n",
       "      <td>587</td>\n",
       "      <td>3262</td>\n",
       "      <td>560</td>\n",
       "      <td>...</td>\n",
       "      <td>0</td>\n",
       "      <td>11</td>\n",
       "      <td>733</td>\n",
       "      <td>439</td>\n",
       "      <td>27</td>\n",
       "      <td>30</td>\n",
       "      <td>2</td>\n",
       "      <td>4</td>\n",
       "      <td>25</td>\n",
       "      <td>29</td>\n",
       "    </tr>\n",
       "    <tr>\n",
       "      <th>1</th>\n",
       "      <td>NaN</td>\n",
       "      <td>11</td>\n",
       "      <td>NaN</td>\n",
       "      <td>8600000US10910</td>\n",
       "      <td>10910</td>\n",
       "      <td>ZCTA5 10910</td>\n",
       "      <td>27</td>\n",
       "      <td>41</td>\n",
       "      <td>27</td>\n",
       "      <td>41</td>\n",
       "      <td>...</td>\n",
       "      <td>0</td>\n",
       "      <td>11</td>\n",
       "      <td>0</td>\n",
       "      <td>11</td>\n",
       "      <td>0</td>\n",
       "      <td>11</td>\n",
       "      <td>0</td>\n",
       "      <td>11</td>\n",
       "      <td>0</td>\n",
       "      <td>11</td>\n",
       "    </tr>\n",
       "    <tr>\n",
       "      <th>2</th>\n",
       "      <td>NaN</td>\n",
       "      <td>11</td>\n",
       "      <td>NaN</td>\n",
       "      <td>8600000US11430</td>\n",
       "      <td>11430</td>\n",
       "      <td>ZCTA5 11430</td>\n",
       "      <td>179</td>\n",
       "      <td>161</td>\n",
       "      <td>16</td>\n",
       "      <td>30</td>\n",
       "      <td>...</td>\n",
       "      <td>0</td>\n",
       "      <td>11</td>\n",
       "      <td>27</td>\n",
       "      <td>44</td>\n",
       "      <td>7</td>\n",
       "      <td>14</td>\n",
       "      <td>7</td>\n",
       "      <td>14</td>\n",
       "      <td>0</td>\n",
       "      <td>11</td>\n",
       "    </tr>\n",
       "    <tr>\n",
       "      <th>3</th>\n",
       "      <td>NaN</td>\n",
       "      <td>11</td>\n",
       "      <td>NaN</td>\n",
       "      <td>8600000US14511</td>\n",
       "      <td>14511</td>\n",
       "      <td>ZCTA5 14511</td>\n",
       "      <td>334</td>\n",
       "      <td>191</td>\n",
       "      <td>316</td>\n",
       "      <td>179</td>\n",
       "      <td>...</td>\n",
       "      <td>0</td>\n",
       "      <td>11</td>\n",
       "      <td>0</td>\n",
       "      <td>11</td>\n",
       "      <td>18</td>\n",
       "      <td>27</td>\n",
       "      <td>0</td>\n",
       "      <td>11</td>\n",
       "      <td>18</td>\n",
       "      <td>27</td>\n",
       "    </tr>\n",
       "    <tr>\n",
       "      <th>4</th>\n",
       "      <td>NaN</td>\n",
       "      <td>Margin of Error; Total: - American Indian and ...</td>\n",
       "      <td>NaN</td>\n",
       "      <td>Id</td>\n",
       "      <td>Id2</td>\n",
       "      <td>Geography</td>\n",
       "      <td>Estimate; Total:</td>\n",
       "      <td>Margin of Error; Total:</td>\n",
       "      <td>Estimate; Total: - White alone</td>\n",
       "      <td>Margin of Error; Total: - White alone</td>\n",
       "      <td>...</td>\n",
       "      <td>Estimate; Total: - Native Hawaiian and Other P...</td>\n",
       "      <td>Margin of Error; Total: - Native Hawaiian and ...</td>\n",
       "      <td>Estimate; Total: - Some other race alone</td>\n",
       "      <td>Margin of Error; Total: - Some other race alone</td>\n",
       "      <td>Estimate; Total: - Two or more races:</td>\n",
       "      <td>Margin of Error; Total: - Two or more races:</td>\n",
       "      <td>Estimate; Total: - Two or more races: - Two ra...</td>\n",
       "      <td>Margin of Error; Total: - Two or more races: -...</td>\n",
       "      <td>Estimate; Total: - Two or more races: - Two ra...</td>\n",
       "      <td>Margin of Error; Total: - Two or more races: -...</td>\n",
       "    </tr>\n",
       "    <tr>\n",
       "      <th>5</th>\n",
       "      <td>NaN</td>\n",
       "      <td>1662</td>\n",
       "      <td>NaN</td>\n",
       "      <td>0500000US36061</td>\n",
       "      <td>36061</td>\n",
       "      <td>New York County, New York</td>\n",
       "      <td>1634989</td>\n",
       "      <td>*****</td>\n",
       "      <td>928883</td>\n",
       "      <td>5432</td>\n",
       "      <td>...</td>\n",
       "      <td>946</td>\n",
       "      <td>202</td>\n",
       "      <td>192292</td>\n",
       "      <td>6079</td>\n",
       "      <td>69335</td>\n",
       "      <td>3324</td>\n",
       "      <td>15444</td>\n",
       "      <td>1849</td>\n",
       "      <td>53891</td>\n",
       "      <td>2915</td>\n",
       "    </tr>\n",
       "    <tr>\n",
       "      <th>6</th>\n",
       "      <td>NaN</td>\n",
       "      <td>11</td>\n",
       "      <td>NaN</td>\n",
       "      <td>8600000US06390</td>\n",
       "      <td>06390</td>\n",
       "      <td>ZCTA5 06390</td>\n",
       "      <td>303</td>\n",
       "      <td>151</td>\n",
       "      <td>297</td>\n",
       "      <td>150</td>\n",
       "      <td>...</td>\n",
       "      <td>0</td>\n",
       "      <td>11</td>\n",
       "      <td>0</td>\n",
       "      <td>11</td>\n",
       "      <td>6</td>\n",
       "      <td>14</td>\n",
       "      <td>6</td>\n",
       "      <td>14</td>\n",
       "      <td>0</td>\n",
       "      <td>11</td>\n",
       "    </tr>\n",
       "    <tr>\n",
       "      <th>7</th>\n",
       "      <td>NaN</td>\n",
       "      <td>235</td>\n",
       "      <td>NaN</td>\n",
       "      <td>8600000US07421</td>\n",
       "      <td>07421</td>\n",
       "      <td>ZCTA5 07421</td>\n",
       "      <td>7281</td>\n",
       "      <td>512</td>\n",
       "      <td>6547</td>\n",
       "      <td>535</td>\n",
       "      <td>...</td>\n",
       "      <td>0</td>\n",
       "      <td>17</td>\n",
       "      <td>215</td>\n",
       "      <td>251</td>\n",
       "      <td>86</td>\n",
       "      <td>59</td>\n",
       "      <td>23</td>\n",
       "      <td>35</td>\n",
       "      <td>63</td>\n",
       "      <td>46</td>\n",
       "    </tr>\n",
       "    <tr>\n",
       "      <th>8</th>\n",
       "      <td>NaN</td>\n",
       "      <td>34</td>\n",
       "      <td>NaN</td>\n",
       "      <td>8600000US10001</td>\n",
       "      <td>10001</td>\n",
       "      <td>ZCTA5 10001</td>\n",
       "      <td>23332</td>\n",
       "      <td>1740</td>\n",
       "      <td>14814</td>\n",
       "      <td>1045</td>\n",
       "      <td>...</td>\n",
       "      <td>0</td>\n",
       "      <td>21</td>\n",
       "      <td>640</td>\n",
       "      <td>541</td>\n",
       "      <td>611</td>\n",
       "      <td>218</td>\n",
       "      <td>230</td>\n",
       "      <td>154</td>\n",
       "      <td>381</td>\n",
       "      <td>150</td>\n",
       "    </tr>\n",
       "    <tr>\n",
       "      <th>9</th>\n",
       "      <td>NaN</td>\n",
       "      <td>138</td>\n",
       "      <td>NaN</td>\n",
       "      <td>8600000US10002</td>\n",
       "      <td>10002</td>\n",
       "      <td>ZCTA5 10002</td>\n",
       "      <td>78096</td>\n",
       "      <td>2456</td>\n",
       "      <td>24591</td>\n",
       "      <td>1682</td>\n",
       "      <td>...</td>\n",
       "      <td>8</td>\n",
       "      <td>12</td>\n",
       "      <td>10432</td>\n",
       "      <td>1623</td>\n",
       "      <td>2879</td>\n",
       "      <td>623</td>\n",
       "      <td>565</td>\n",
       "      <td>228</td>\n",
       "      <td>2314</td>\n",
       "      <td>561</td>\n",
       "    </tr>\n",
       "  </tbody>\n",
       "</table>\n",
       "<p>10 rows × 26 columns</p>\n",
       "</div>"
      ],
      "text/plain": [
       "   the_geom                                          hd02_vd04  \\\n",
       "0       NaN                                                 11   \n",
       "1       NaN                                                 11   \n",
       "2       NaN                                                 11   \n",
       "3       NaN                                                 11   \n",
       "4       NaN  Margin of Error; Total: - American Indian and ...   \n",
       "5       NaN                                               1662   \n",
       "6       NaN                                                 11   \n",
       "7       NaN                                                235   \n",
       "8       NaN                                                 34   \n",
       "9       NaN                                                138   \n",
       "\n",
       "   the_geom_webmercator          geo_id geo_id2          geo_display_label  \\\n",
       "0                   NaN  8600000US10464   10464                ZCTA5 10464   \n",
       "1                   NaN  8600000US10910   10910                ZCTA5 10910   \n",
       "2                   NaN  8600000US11430   11430                ZCTA5 11430   \n",
       "3                   NaN  8600000US14511   14511                ZCTA5 14511   \n",
       "4                   NaN              Id     Id2                  Geography   \n",
       "5                   NaN  0500000US36061   36061  New York County, New York   \n",
       "6                   NaN  8600000US06390   06390                ZCTA5 06390   \n",
       "7                   NaN  8600000US07421   07421                ZCTA5 07421   \n",
       "8                   NaN  8600000US10001   10001                ZCTA5 10001   \n",
       "9                   NaN  8600000US10002   10002                ZCTA5 10002   \n",
       "\n",
       "          hd01_vd01                hd02_vd01                       hd01_vd02  \\\n",
       "0              4300                      587                            3262   \n",
       "1                27                       41                              27   \n",
       "2               179                      161                              16   \n",
       "3               334                      191                             316   \n",
       "4  Estimate; Total:  Margin of Error; Total:  Estimate; Total: - White alone   \n",
       "5           1634989                    *****                          928883   \n",
       "6               303                      151                             297   \n",
       "7              7281                      512                            6547   \n",
       "8             23332                     1740                           14814   \n",
       "9             78096                     2456                           24591   \n",
       "\n",
       "                               hd02_vd02  \\\n",
       "0                                    560   \n",
       "1                                     41   \n",
       "2                                     30   \n",
       "3                                    179   \n",
       "4  Margin of Error; Total: - White alone   \n",
       "5                                   5432   \n",
       "6                                    150   \n",
       "7                                    535   \n",
       "8                                   1045   \n",
       "9                                   1682   \n",
       "\n",
       "                         ...                          \\\n",
       "0                        ...                           \n",
       "1                        ...                           \n",
       "2                        ...                           \n",
       "3                        ...                           \n",
       "4                        ...                           \n",
       "5                        ...                           \n",
       "6                        ...                           \n",
       "7                        ...                           \n",
       "8                        ...                           \n",
       "9                        ...                           \n",
       "\n",
       "                                           hd01_vd06  \\\n",
       "0                                                  0   \n",
       "1                                                  0   \n",
       "2                                                  0   \n",
       "3                                                  0   \n",
       "4  Estimate; Total: - Native Hawaiian and Other P...   \n",
       "5                                                946   \n",
       "6                                                  0   \n",
       "7                                                  0   \n",
       "8                                                  0   \n",
       "9                                                  8   \n",
       "\n",
       "                                           hd02_vd06  \\\n",
       "0                                                 11   \n",
       "1                                                 11   \n",
       "2                                                 11   \n",
       "3                                                 11   \n",
       "4  Margin of Error; Total: - Native Hawaiian and ...   \n",
       "5                                                202   \n",
       "6                                                 11   \n",
       "7                                                 17   \n",
       "8                                                 21   \n",
       "9                                                 12   \n",
       "\n",
       "                                  hd01_vd07  \\\n",
       "0                                       733   \n",
       "1                                         0   \n",
       "2                                        27   \n",
       "3                                         0   \n",
       "4  Estimate; Total: - Some other race alone   \n",
       "5                                    192292   \n",
       "6                                         0   \n",
       "7                                       215   \n",
       "8                                       640   \n",
       "9                                     10432   \n",
       "\n",
       "                                         hd02_vd07  \\\n",
       "0                                              439   \n",
       "1                                               11   \n",
       "2                                               44   \n",
       "3                                               11   \n",
       "4  Margin of Error; Total: - Some other race alone   \n",
       "5                                             6079   \n",
       "6                                               11   \n",
       "7                                              251   \n",
       "8                                              541   \n",
       "9                                             1623   \n",
       "\n",
       "                               hd01_vd08  \\\n",
       "0                                     27   \n",
       "1                                      0   \n",
       "2                                      7   \n",
       "3                                     18   \n",
       "4  Estimate; Total: - Two or more races:   \n",
       "5                                  69335   \n",
       "6                                      6   \n",
       "7                                     86   \n",
       "8                                    611   \n",
       "9                                   2879   \n",
       "\n",
       "                                      hd02_vd08  \\\n",
       "0                                            30   \n",
       "1                                            11   \n",
       "2                                            14   \n",
       "3                                            27   \n",
       "4  Margin of Error; Total: - Two or more races:   \n",
       "5                                          3324   \n",
       "6                                            14   \n",
       "7                                            59   \n",
       "8                                           218   \n",
       "9                                           623   \n",
       "\n",
       "                                           hd01_vd09  \\\n",
       "0                                                  2   \n",
       "1                                                  0   \n",
       "2                                                  7   \n",
       "3                                                  0   \n",
       "4  Estimate; Total: - Two or more races: - Two ra...   \n",
       "5                                              15444   \n",
       "6                                                  6   \n",
       "7                                                 23   \n",
       "8                                                230   \n",
       "9                                                565   \n",
       "\n",
       "                                           hd02_vd09  \\\n",
       "0                                                  4   \n",
       "1                                                 11   \n",
       "2                                                 14   \n",
       "3                                                 11   \n",
       "4  Margin of Error; Total: - Two or more races: -...   \n",
       "5                                               1849   \n",
       "6                                                 14   \n",
       "7                                                 35   \n",
       "8                                                154   \n",
       "9                                                228   \n",
       "\n",
       "                                           hd01_vd10  \\\n",
       "0                                                 25   \n",
       "1                                                  0   \n",
       "2                                                  0   \n",
       "3                                                 18   \n",
       "4  Estimate; Total: - Two or more races: - Two ra...   \n",
       "5                                              53891   \n",
       "6                                                  0   \n",
       "7                                                 63   \n",
       "8                                                381   \n",
       "9                                               2314   \n",
       "\n",
       "                                           hd02_vd10  \n",
       "0                                                 29  \n",
       "1                                                 11  \n",
       "2                                                 11  \n",
       "3                                                 27  \n",
       "4  Margin of Error; Total: - Two or more races: -...  \n",
       "5                                               2915  \n",
       "6                                                 11  \n",
       "7                                                 46  \n",
       "8                                                150  \n",
       "9                                                561  \n",
       "\n",
       "[10 rows x 26 columns]"
      ]
     },
     "execution_count": 219,
     "metadata": {},
     "output_type": "execute_result"
    }
   ],
   "source": [
    "query = '''SELECT * FROM fb55.acs16; '''\n",
    "acs16 = get_data(query)\n",
    "acs16.head(10)"
   ]
  },
  {
   "cell_type": "code",
   "execution_count": 220,
   "metadata": {},
   "outputs": [],
   "source": [
    "acs16 = acs16.drop(4)"
   ]
  },
  {
   "cell_type": "code",
   "execution_count": 225,
   "metadata": {},
   "outputs": [],
   "source": [
    "acs16 = acs16.loc[:,['geo_id2','hd01_vd01','hd01_vd02']]"
   ]
  },
  {
   "cell_type": "code",
   "execution_count": 226,
   "metadata": {},
   "outputs": [],
   "source": [
    "acs16.rename(columns={'geo_id2':'zipcode', 'hd01_vd01':'total', 'hd01_vd02':'white_total'}, inplace=True)"
   ]
  },
  {
   "cell_type": "code",
   "execution_count": 227,
   "metadata": {},
   "outputs": [],
   "source": [
    "acs16.zipcode = acs16.zipcode.astype(int)\n",
    "acs16.total = acs16.total.astype(int)\n",
    "acs16.white_total = acs16.white_total.astype(int)"
   ]
  },
  {
   "cell_type": "code",
   "execution_count": 228,
   "metadata": {},
   "outputs": [],
   "source": [
    "acs16['non_whiteFraction'] = (acs16.total - acs16.white_total)/acs16.total"
   ]
  },
  {
   "cell_type": "code",
   "execution_count": 229,
   "metadata": {},
   "outputs": [],
   "source": [
    "acs16.sort_values('zipcode',axis=0,inplace=True)"
   ]
  },
  {
   "cell_type": "code",
   "execution_count": 231,
   "metadata": {},
   "outputs": [
    {
     "data": {
      "text/html": [
       "<div>\n",
       "<table border=\"1\" class=\"dataframe\">\n",
       "  <thead>\n",
       "    <tr style=\"text-align: right;\">\n",
       "      <th></th>\n",
       "      <th>zipcode</th>\n",
       "      <th>total</th>\n",
       "      <th>white_total</th>\n",
       "      <th>non_whiteFraction</th>\n",
       "    </tr>\n",
       "  </thead>\n",
       "  <tbody>\n",
       "    <tr>\n",
       "      <th>6</th>\n",
       "      <td>6390</td>\n",
       "      <td>303</td>\n",
       "      <td>297</td>\n",
       "      <td>0.019802</td>\n",
       "    </tr>\n",
       "    <tr>\n",
       "      <th>7</th>\n",
       "      <td>7421</td>\n",
       "      <td>7281</td>\n",
       "      <td>6547</td>\n",
       "      <td>0.100810</td>\n",
       "    </tr>\n",
       "    <tr>\n",
       "      <th>8</th>\n",
       "      <td>10001</td>\n",
       "      <td>23332</td>\n",
       "      <td>14814</td>\n",
       "      <td>0.365078</td>\n",
       "    </tr>\n",
       "    <tr>\n",
       "      <th>9</th>\n",
       "      <td>10002</td>\n",
       "      <td>78096</td>\n",
       "      <td>24591</td>\n",
       "      <td>0.685118</td>\n",
       "    </tr>\n",
       "    <tr>\n",
       "      <th>10</th>\n",
       "      <td>10003</td>\n",
       "      <td>56767</td>\n",
       "      <td>44001</td>\n",
       "      <td>0.224884</td>\n",
       "    </tr>\n",
       "    <tr>\n",
       "      <th>11</th>\n",
       "      <td>10004</td>\n",
       "      <td>3044</td>\n",
       "      <td>2201</td>\n",
       "      <td>0.276938</td>\n",
       "    </tr>\n",
       "    <tr>\n",
       "      <th>12</th>\n",
       "      <td>10005</td>\n",
       "      <td>8710</td>\n",
       "      <td>6425</td>\n",
       "      <td>0.262342</td>\n",
       "    </tr>\n",
       "    <tr>\n",
       "      <th>13</th>\n",
       "      <td>10006</td>\n",
       "      <td>3277</td>\n",
       "      <td>2162</td>\n",
       "      <td>0.340250</td>\n",
       "    </tr>\n",
       "    <tr>\n",
       "      <th>14</th>\n",
       "      <td>10007</td>\n",
       "      <td>6740</td>\n",
       "      <td>4790</td>\n",
       "      <td>0.289318</td>\n",
       "    </tr>\n",
       "    <tr>\n",
       "      <th>15</th>\n",
       "      <td>10009</td>\n",
       "      <td>59799</td>\n",
       "      <td>36219</td>\n",
       "      <td>0.394321</td>\n",
       "    </tr>\n",
       "  </tbody>\n",
       "</table>\n",
       "</div>"
      ],
      "text/plain": [
       "    zipcode  total  white_total  non_whiteFraction\n",
       "6      6390    303          297           0.019802\n",
       "7      7421   7281         6547           0.100810\n",
       "8     10001  23332        14814           0.365078\n",
       "9     10002  78096        24591           0.685118\n",
       "10    10003  56767        44001           0.224884\n",
       "11    10004   3044         2201           0.276938\n",
       "12    10005   8710         6425           0.262342\n",
       "13    10006   3277         2162           0.340250\n",
       "14    10007   6740         4790           0.289318\n",
       "15    10009  59799        36219           0.394321"
      ]
     },
     "execution_count": 231,
     "metadata": {},
     "output_type": "execute_result"
    }
   ],
   "source": [
    "acs16.head(10)"
   ]
  },
  {
   "cell_type": "markdown",
   "metadata": {},
   "source": [
    "There are some rows that are not zipcodes, that will be fixed when we merge"
   ]
  },
  {
   "cell_type": "markdown",
   "metadata": {
    "run_control": {
     "frozen": false,
     "read_only": false
    }
   },
   "source": [
    "# 3 Download the a shapefile for zipcodes in NYC. \n",
    "\n",
    "_Deliverable: a plot like the one below_\n",
    "\n",
    "[hints](https://docs.google.com/document/d/1VebStvoAoq4YAVgQJ7gRjSyy8cycszIdgT33zJze5zk/edit?usp=sharing)"
   ]
  },
  {
   "cell_type": "code",
   "execution_count": 21,
   "metadata": {},
   "outputs": [
    {
     "name": "stdout",
     "output_type": "stream",
     "text": [
      "Downloading file\n",
      "Unzipping file\n",
      "Files in place, please continue\n"
     ]
    }
   ],
   "source": [
    "#Set url and filename for generated file\n",
    "url = 'https://data.cityofnewyork.us/api/views/i8iw-xf4u/files/YObIR0MbpUVA0EpQzZSq5x55FzKGM2ejSeahdvjqR20?filename=ZIP_CODE_040114.zip'\n",
    "filename = 'ZIP_CODE_040114.zip'\n",
    "\n",
    "#Check if file exists\n",
    "if not os.path.isfile(puidata + \"/\" + filename):\n",
    "    print (\"Downloading file\")\n",
    "    #Use this for some reason instead of curl, maybe because the url doesn't point to a file but generates it\n",
    "    urlib.request.urlretrieve(url, filename)\n",
    "    os.system(\"mv \" + filename + \" \" + puidata)\n",
    "\n",
    "#Unzip file\n",
    "print (\"Unzipping file\")\n",
    "os.system(\"unzip \" + puidata + \"/\" + filename + \" -d \" + puidata)\n",
    "\n",
    "#Get the file names from the .zip\n",
    "files = os.popen(\"unzip -Z1 \" + puidata + \"/\" + filename).read()\n",
    "files = files.split(sep='\\n')\n",
    "shp_file = files[1]\n",
    "\n",
    "if not os.path.isfile(puidata + \"/\" + shp_file):\n",
    "    print('Warning: file is not there, something went wrong!')\n",
    "else:\n",
    "    print('Files in place, please continue')"
   ]
  },
  {
   "cell_type": "code",
   "execution_count": 22,
   "metadata": {},
   "outputs": [
    {
     "data": {
      "text/html": [
       "<div>\n",
       "<table border=\"1\" class=\"dataframe\">\n",
       "  <thead>\n",
       "    <tr style=\"text-align: right;\">\n",
       "      <th></th>\n",
       "      <th>ZIPCODE</th>\n",
       "      <th>BLDGZIP</th>\n",
       "      <th>PO_NAME</th>\n",
       "      <th>POPULATION</th>\n",
       "      <th>AREA</th>\n",
       "      <th>STATE</th>\n",
       "      <th>COUNTY</th>\n",
       "      <th>ST_FIPS</th>\n",
       "      <th>CTY_FIPS</th>\n",
       "      <th>URL</th>\n",
       "      <th>SHAPE_AREA</th>\n",
       "      <th>SHAPE_LEN</th>\n",
       "      <th>geometry</th>\n",
       "    </tr>\n",
       "  </thead>\n",
       "  <tbody>\n",
       "    <tr>\n",
       "      <th>0</th>\n",
       "      <td>11436</td>\n",
       "      <td>0</td>\n",
       "      <td>Jamaica</td>\n",
       "      <td>18681.0</td>\n",
       "      <td>2.269930e+07</td>\n",
       "      <td>NY</td>\n",
       "      <td>Queens</td>\n",
       "      <td>36</td>\n",
       "      <td>081</td>\n",
       "      <td>http://www.usps.com/</td>\n",
       "      <td>0.0</td>\n",
       "      <td>0.0</td>\n",
       "      <td>POLYGON ((1038098.251871482 188138.3800067157,...</td>\n",
       "    </tr>\n",
       "    <tr>\n",
       "      <th>1</th>\n",
       "      <td>11213</td>\n",
       "      <td>0</td>\n",
       "      <td>Brooklyn</td>\n",
       "      <td>62426.0</td>\n",
       "      <td>2.963100e+07</td>\n",
       "      <td>NY</td>\n",
       "      <td>Kings</td>\n",
       "      <td>36</td>\n",
       "      <td>047</td>\n",
       "      <td>http://www.usps.com/</td>\n",
       "      <td>0.0</td>\n",
       "      <td>0.0</td>\n",
       "      <td>POLYGON ((1001613.712964058 186926.4395172149,...</td>\n",
       "    </tr>\n",
       "    <tr>\n",
       "      <th>2</th>\n",
       "      <td>11212</td>\n",
       "      <td>0</td>\n",
       "      <td>Brooklyn</td>\n",
       "      <td>83866.0</td>\n",
       "      <td>4.197210e+07</td>\n",
       "      <td>NY</td>\n",
       "      <td>Kings</td>\n",
       "      <td>36</td>\n",
       "      <td>047</td>\n",
       "      <td>http://www.usps.com/</td>\n",
       "      <td>0.0</td>\n",
       "      <td>0.0</td>\n",
       "      <td>POLYGON ((1011174.275535807 183696.33770971, 1...</td>\n",
       "    </tr>\n",
       "    <tr>\n",
       "      <th>3</th>\n",
       "      <td>11225</td>\n",
       "      <td>0</td>\n",
       "      <td>Brooklyn</td>\n",
       "      <td>56527.0</td>\n",
       "      <td>2.369863e+07</td>\n",
       "      <td>NY</td>\n",
       "      <td>Kings</td>\n",
       "      <td>36</td>\n",
       "      <td>047</td>\n",
       "      <td>http://www.usps.com/</td>\n",
       "      <td>0.0</td>\n",
       "      <td>0.0</td>\n",
       "      <td>POLYGON ((995908.3654508889 183617.6128015518,...</td>\n",
       "    </tr>\n",
       "    <tr>\n",
       "      <th>4</th>\n",
       "      <td>11218</td>\n",
       "      <td>0</td>\n",
       "      <td>Brooklyn</td>\n",
       "      <td>72280.0</td>\n",
       "      <td>3.686880e+07</td>\n",
       "      <td>NY</td>\n",
       "      <td>Kings</td>\n",
       "      <td>36</td>\n",
       "      <td>047</td>\n",
       "      <td>http://www.usps.com/</td>\n",
       "      <td>0.0</td>\n",
       "      <td>0.0</td>\n",
       "      <td>POLYGON ((991997.1134308875 176307.4958601296,...</td>\n",
       "    </tr>\n",
       "  </tbody>\n",
       "</table>\n",
       "</div>"
      ],
      "text/plain": [
       "  ZIPCODE BLDGZIP   PO_NAME  POPULATION          AREA STATE  COUNTY ST_FIPS  \\\n",
       "0   11436       0   Jamaica     18681.0  2.269930e+07    NY  Queens      36   \n",
       "1   11213       0  Brooklyn     62426.0  2.963100e+07    NY   Kings      36   \n",
       "2   11212       0  Brooklyn     83866.0  4.197210e+07    NY   Kings      36   \n",
       "3   11225       0  Brooklyn     56527.0  2.369863e+07    NY   Kings      36   \n",
       "4   11218       0  Brooklyn     72280.0  3.686880e+07    NY   Kings      36   \n",
       "\n",
       "  CTY_FIPS                   URL  SHAPE_AREA  SHAPE_LEN  \\\n",
       "0      081  http://www.usps.com/         0.0        0.0   \n",
       "1      047  http://www.usps.com/         0.0        0.0   \n",
       "2      047  http://www.usps.com/         0.0        0.0   \n",
       "3      047  http://www.usps.com/         0.0        0.0   \n",
       "4      047  http://www.usps.com/         0.0        0.0   \n",
       "\n",
       "                                            geometry  \n",
       "0  POLYGON ((1038098.251871482 188138.3800067157,...  \n",
       "1  POLYGON ((1001613.712964058 186926.4395172149,...  \n",
       "2  POLYGON ((1011174.275535807 183696.33770971, 1...  \n",
       "3  POLYGON ((995908.3654508889 183617.6128015518,...  \n",
       "4  POLYGON ((991997.1134308875 176307.4958601296,...  "
      ]
     },
     "execution_count": 22,
     "metadata": {},
     "output_type": "execute_result"
    }
   ],
   "source": [
    "nycZipCodes = gpd.GeoDataFrame.from_file(puidata + '/' + shp_file)\n",
    "nycZipCodes.head()"
   ]
  },
  {
   "cell_type": "code",
   "execution_count": 25,
   "metadata": {},
   "outputs": [],
   "source": [
    "manZipcodes = nycZipCodes.loc[nycZipCodes.COUNTY == 'New York']"
   ]
  },
  {
   "cell_type": "code",
   "execution_count": 31,
   "metadata": {},
   "outputs": [
    {
     "data": {
      "image/png": "[encoded data removed]",
      "text/plain": [
       "<matplotlib.figure.Figure at 0x7f1495fbb080>"
      ]
     },
     "metadata": {},
     "output_type": "display_data"
    }
   ],
   "source": [
    "# using the built in plot function as pumashp.plot(pumashp....)\n",
    "ax = manZipcodes.plot(color='white', edgecolor='black', figsize=(12,12), lw=1)\n",
    "plt.axis('off')\n",
    "ax.set_title('Figure 2: Manhattan ZipCodes', fontsize=15)\n",
    "plt.show()"
   ]
  },
  {
   "cell_type": "markdown",
   "metadata": {
    "run_control": {
     "frozen": false,
     "read_only": false
    }
   },
   "source": [
    "# 4. Identify the column from the trees file that describes health of trees    \n",
    "    \n",
    "What kind of variable is this? Remake the plot in step 1 colorcoding the trees by health. \n",
    "\n",
    "_Deliverable: a plot like the one in step 1 but colorcoded by tree health_"
   ]
  },
  {
   "cell_type": "code",
   "execution_count": 45,
   "metadata": {},
   "outputs": [
    {
     "data": {
      "text/plain": [
       "Index(['tree_id', 'block_id', 'created_at', 'tree_dbh', 'stump_diam',\n",
       "       'curb_loc', 'status', 'health', 'spc_latin', 'spc_common', 'steward',\n",
       "       'guards', 'sidewalk', 'user_type', 'problems', 'root_stone',\n",
       "       'root_grate', 'root_other', 'trunk_wire', 'trnk_light', 'trnk_other',\n",
       "       'brch_light', 'brch_shoe', 'brch_other', 'address', 'postcode',\n",
       "       'zip_city', 'community board', 'borocode', 'borough', 'cncldist',\n",
       "       'st_assem', 'st_senate', 'nta', 'nta_name', 'boro_ct', 'state',\n",
       "       'latitude', 'longitude', 'x_sp', 'y_sp', 'council district',\n",
       "       'census tract', 'bin', 'bbl', 'lonlat', 'geometry'],\n",
       "      dtype='object')"
      ]
     },
     "execution_count": 45,
     "metadata": {},
     "output_type": "execute_result"
    }
   ],
   "source": [
    "manTrees.columns"
   ]
  },
  {
   "cell_type": "code",
   "execution_count": 47,
   "metadata": {
    "scrolled": false
   },
   "outputs": [
    {
     "data": {
      "text/plain": [
       "Good    47358\n",
       "Fair    11460\n",
       "Poor     3609\n",
       "Name: health, dtype: int64"
      ]
     },
     "execution_count": 47,
     "metadata": {},
     "output_type": "execute_result"
    }
   ],
   "source": [
    "manTrees.health.value_counts()"
   ]
  },
  {
   "cell_type": "markdown",
   "metadata": {},
   "source": [
    "We can see that the health column is a string with 3 values: Good, Fair, and Poor. Its a categorical variable."
   ]
  },
  {
   "cell_type": "code",
   "execution_count": 59,
   "metadata": {},
   "outputs": [],
   "source": [
    "manTrees['health_int'] = manTrees.health.map({'Good':2,'Fair':1, 'Poor':0})"
   ]
  },
  {
   "cell_type": "code",
   "execution_count": 61,
   "metadata": {},
   "outputs": [
    {
     "data": {
      "text/plain": [
       "2.0    47358\n",
       "1.0    11460\n",
       "0.0     3609\n",
       "Name: health_int, dtype: int64"
      ]
     },
     "execution_count": 61,
     "metadata": {},
     "output_type": "execute_result"
    }
   ],
   "source": [
    "manTrees.health_int.value_counts()"
   ]
  },
  {
   "cell_type": "code",
   "execution_count": 273,
   "metadata": {},
   "outputs": [
    {
     "data": {
      "image/png": "[encoded data removed]",
      "text/plain": [
       "<matplotlib.figure.Figure at 0x7f148d4aeb70>"
      ]
     },
     "metadata": {},
     "output_type": "display_data"
    }
   ],
   "source": [
    "fig, ax = plt.subplots(figsize  = (12, 12))\n",
    "\n",
    "ax.set_title(\"Figure 3: Manhattan rees by health\", fontsize=15)\n",
    "\n",
    "manTrees.plot(column='health_int', ax=ax, legend=True, cmap='viridis', markersize=0.1)\n",
    "\n",
    "ax.axis('off')\n",
    "\n",
    "#Correct aspect ratio\n",
    "ax.axes.set_aspect('equal')\n",
    "\n",
    "plt.show()"
   ]
  },
  {
   "cell_type": "markdown",
   "metadata": {
    "run_control": {
     "frozen": false,
     "read_only": false
    }
   },
   "source": [
    "# 5 Group the tree dataframe by zipcode and calculate theaverage tree health and number of trees per zipcode.\n",
    "\n",
    "_Deliverable: a dataframe containing zipcode and hree health, a dataframe containint zipcode and number of trees_\n",
    "\n",
    "You can find the solution [here](https://serv.cusp.nyu.edu/~fbianco/ntrees.csv) and  [here](https://serv.cusp.nyu.edu/~fbianco/treehealth.csv) - if you use this solution you will not get the 10 points for this deliverable (but you can go back later to this! and if you do get the solution later you will get the points!)\n",
    "\n",
    "[hints](https://docs.google.com/document/d/1saSbFb092U6AyJDU10yTzbKOQITKinyQlw2KcNWg2B4/edit?usp=sharing)"
   ]
  },
  {
   "cell_type": "code",
   "execution_count": 68,
   "metadata": {},
   "outputs": [],
   "source": [
    "manTrees.rename(columns={'postcode':'zipcode'}, inplace=True)"
   ]
  },
  {
   "cell_type": "code",
   "execution_count": 73,
   "metadata": {},
   "outputs": [],
   "source": [
    "ntrees = manTrees.groupby(by='zipcode')[['health']].count()\n",
    "ntrees.reset_index(inplace=True)"
   ]
  },
  {
   "cell_type": "code",
   "execution_count": 94,
   "metadata": {},
   "outputs": [],
   "source": [
    "ntrees.rename(columns={'health':'ntrees'}, inplace=True)"
   ]
  },
  {
   "cell_type": "code",
   "execution_count": 95,
   "metadata": {
    "ExecuteTime": {
     "end_time": "2018-10-28T05:04:52.231125Z",
     "start_time": "2018-10-28T05:04:52.218709Z"
    },
    "run_control": {
     "frozen": false,
     "read_only": false
    }
   },
   "outputs": [
    {
     "data": {
      "text/html": [
       "<div>\n",
       "<table border=\"1\" class=\"dataframe\">\n",
       "  <thead>\n",
       "    <tr style=\"text-align: right;\">\n",
       "      <th></th>\n",
       "      <th>zipcode</th>\n",
       "      <th>ntrees</th>\n",
       "    </tr>\n",
       "  </thead>\n",
       "  <tbody>\n",
       "    <tr>\n",
       "      <th>0</th>\n",
       "      <td>83</td>\n",
       "      <td>932</td>\n",
       "    </tr>\n",
       "    <tr>\n",
       "      <th>1</th>\n",
       "      <td>10001</td>\n",
       "      <td>850</td>\n",
       "    </tr>\n",
       "    <tr>\n",
       "      <th>2</th>\n",
       "      <td>10002</td>\n",
       "      <td>2158</td>\n",
       "    </tr>\n",
       "    <tr>\n",
       "      <th>3</th>\n",
       "      <td>10003</td>\n",
       "      <td>1943</td>\n",
       "    </tr>\n",
       "    <tr>\n",
       "      <th>4</th>\n",
       "      <td>10004</td>\n",
       "      <td>117</td>\n",
       "    </tr>\n",
       "  </tbody>\n",
       "</table>\n",
       "</div>"
      ],
      "text/plain": [
       "   zipcode  ntrees\n",
       "0       83     932\n",
       "1    10001     850\n",
       "2    10002    2158\n",
       "3    10003    1943\n",
       "4    10004     117"
      ]
     },
     "execution_count": 95,
     "metadata": {},
     "output_type": "execute_result"
    }
   ],
   "source": [
    "ntrees.head()"
   ]
  },
  {
   "cell_type": "code",
   "execution_count": 76,
   "metadata": {},
   "outputs": [],
   "source": [
    "treehealth = manTrees.groupby(by='zipcode')[['health_int']].mean()\n",
    "treehealth.reset_index(inplace=True)"
   ]
  },
  {
   "cell_type": "code",
   "execution_count": 92,
   "metadata": {},
   "outputs": [],
   "source": [
    "treehealth.rename(columns={'health_int':'treehealth'}, inplace=True)"
   ]
  },
  {
   "cell_type": "code",
   "execution_count": 93,
   "metadata": {
    "ExecuteTime": {
     "end_time": "2018-10-28T04:47:33.122841Z",
     "start_time": "2018-10-28T04:47:33.106100Z"
    },
    "run_control": {
     "frozen": false,
     "read_only": false
    }
   },
   "outputs": [
    {
     "data": {
      "text/html": [
       "<div>\n",
       "<table border=\"1\" class=\"dataframe\">\n",
       "  <thead>\n",
       "    <tr style=\"text-align: right;\">\n",
       "      <th></th>\n",
       "      <th>zipcode</th>\n",
       "      <th>treehealth</th>\n",
       "    </tr>\n",
       "  </thead>\n",
       "  <tbody>\n",
       "    <tr>\n",
       "      <th>0</th>\n",
       "      <td>83</td>\n",
       "      <td>1.940987</td>\n",
       "    </tr>\n",
       "    <tr>\n",
       "      <th>1</th>\n",
       "      <td>10001</td>\n",
       "      <td>1.809412</td>\n",
       "    </tr>\n",
       "    <tr>\n",
       "      <th>2</th>\n",
       "      <td>10002</td>\n",
       "      <td>1.714087</td>\n",
       "    </tr>\n",
       "    <tr>\n",
       "      <th>3</th>\n",
       "      <td>10003</td>\n",
       "      <td>1.709213</td>\n",
       "    </tr>\n",
       "    <tr>\n",
       "      <th>4</th>\n",
       "      <td>10004</td>\n",
       "      <td>1.803419</td>\n",
       "    </tr>\n",
       "  </tbody>\n",
       "</table>\n",
       "</div>"
      ],
      "text/plain": [
       "   zipcode  treehealth\n",
       "0       83    1.940987\n",
       "1    10001    1.809412\n",
       "2    10002    1.714087\n",
       "3    10003    1.709213\n",
       "4    10004    1.803419"
      ]
     },
     "execution_count": 93,
     "metadata": {},
     "output_type": "execute_result"
    }
   ],
   "source": [
    "treehealth.head()"
   ]
  },
  {
   "cell_type": "markdown",
   "metadata": {
    "run_control": {
     "frozen": false,
     "read_only": false
    }
   },
   "source": [
    "# 6 Data aggregation task: \n",
    "\n",
    "merge the dataframes and geodataframes (trees, zipcodes, and ACS), group them so that each zipcode has \n",
    "1. the number of trees per person\n",
    "2. the average tree health\n",
    "3. the percentage of non-white population\n",
    "4. the shape of the area (zipcode)\n",
    "\n",
    "_Your deliverable for this task is a dataframe like the one below_\n",
    "\n",
    "You can find the solution [here](https://serv.cusp.nyu.edu/~fbianco/treepp.csv) - if you use this solution you will not get the 10 points for this deliverable (but you can go back later to this! and if you do get the solution later you will get the points!)\n",
    "\n",
    "[hints](https://docs.google.com/document/d/1EJnoZ3NWiUBOx4swbNMMdEA2c_mMOnr108ov79d26sM/edit?usp=sharing)"
   ]
  },
  {
   "cell_type": "code",
   "execution_count": 233,
   "metadata": {},
   "outputs": [
    {
     "name": "stderr",
     "output_type": "stream",
     "text": [
      "/usr/local/Anaconda3-5.0.0-Linux-x86_64/envs/PUI2016_Python3/lib/python3.5/site-packages/pandas/core/generic.py:2701: SettingWithCopyWarning: \n",
      "A value is trying to be set on a copy of a slice from a DataFrame.\n",
      "Try using .loc[row_indexer,col_indexer] = value instead\n",
      "\n",
      "See the caveats in the documentation: http://pandas.pydata.org/pandas-docs/stable/indexing.html#indexing-view-versus-copy\n",
      "  self[name] = value\n"
     ]
    }
   ],
   "source": [
    "manZipcodes.ZIPCODE = manZipcodes.ZIPCODE.astype(int)"
   ]
  },
  {
   "cell_type": "code",
   "execution_count": 234,
   "metadata": {},
   "outputs": [],
   "source": [
    "treepp = manZipcodes.merge(treehealth,\n",
    "                  right_on=\"zipcode\",\n",
    "                  left_on=\"ZIPCODE\",\n",
    "                  how='inner')"
   ]
  },
  {
   "cell_type": "code",
   "execution_count": 235,
   "metadata": {},
   "outputs": [],
   "source": [
    "treepp = treepp.merge(acs16,\n",
    "             right_on=\"zipcode\",\n",
    "                  left_on=\"ZIPCODE\",\n",
    "                  how='inner')"
   ]
  },
  {
   "cell_type": "code",
   "execution_count": 236,
   "metadata": {},
   "outputs": [],
   "source": [
    "treepp = treepp.merge(ntrees,\n",
    "             right_on=\"zipcode\",\n",
    "                  left_on=\"ZIPCODE\",\n",
    "                  how='inner')"
   ]
  },
  {
   "cell_type": "code",
   "execution_count": 237,
   "metadata": {},
   "outputs": [],
   "source": [
    "treepp = treepp.loc[:,['ZIPCODE', 'geometry', 'total', 'non_whiteFraction', 'treehealth', 'ntrees']]"
   ]
  },
  {
   "cell_type": "code",
   "execution_count": 238,
   "metadata": {},
   "outputs": [
    {
     "data": {
      "text/html": [
       "<div>\n",
       "<table border=\"1\" class=\"dataframe\">\n",
       "  <thead>\n",
       "    <tr style=\"text-align: right;\">\n",
       "      <th></th>\n",
       "      <th>ZIPCODE</th>\n",
       "      <th>geometry</th>\n",
       "      <th>total</th>\n",
       "      <th>non_whiteFraction</th>\n",
       "      <th>treehealth</th>\n",
       "      <th>ntrees</th>\n",
       "    </tr>\n",
       "  </thead>\n",
       "  <tbody>\n",
       "    <tr>\n",
       "      <th>0</th>\n",
       "      <td>10034</td>\n",
       "      <td>POLYGON ((1006203.169008225 257345.6566181332,...</td>\n",
       "      <td>43951</td>\n",
       "      <td>0.603399</td>\n",
       "      <td>1.596282</td>\n",
       "      <td>1506</td>\n",
       "    </tr>\n",
       "    <tr>\n",
       "      <th>1</th>\n",
       "      <td>10033</td>\n",
       "      <td>POLYGON ((1003020.86467731 256049.1618358046, ...</td>\n",
       "      <td>59353</td>\n",
       "      <td>0.586693</td>\n",
       "      <td>1.628510</td>\n",
       "      <td>1852</td>\n",
       "    </tr>\n",
       "    <tr>\n",
       "      <th>2</th>\n",
       "      <td>10040</td>\n",
       "      <td>POLYGON ((1002564.135275811 253724.7731118798,...</td>\n",
       "      <td>45033</td>\n",
       "      <td>0.636866</td>\n",
       "      <td>1.627154</td>\n",
       "      <td>1451</td>\n",
       "    </tr>\n",
       "    <tr>\n",
       "      <th>3</th>\n",
       "      <td>10032</td>\n",
       "      <td>POLYGON ((998935.8528342247 249154.259943217, ...</td>\n",
       "      <td>63189</td>\n",
       "      <td>0.684629</td>\n",
       "      <td>1.631274</td>\n",
       "      <td>2072</td>\n",
       "    </tr>\n",
       "    <tr>\n",
       "      <th>4</th>\n",
       "      <td>10031</td>\n",
       "      <td>POLYGON ((1000830.038678393 241801.5896092206,...</td>\n",
       "      <td>60778</td>\n",
       "      <td>0.708957</td>\n",
       "      <td>1.727199</td>\n",
       "      <td>2456</td>\n",
       "    </tr>\n",
       "  </tbody>\n",
       "</table>\n",
       "</div>"
      ],
      "text/plain": [
       "   ZIPCODE                                           geometry  total  \\\n",
       "0    10034  POLYGON ((1006203.169008225 257345.6566181332,...  43951   \n",
       "1    10033  POLYGON ((1003020.86467731 256049.1618358046, ...  59353   \n",
       "2    10040  POLYGON ((1002564.135275811 253724.7731118798,...  45033   \n",
       "3    10032  POLYGON ((998935.8528342247 249154.259943217, ...  63189   \n",
       "4    10031  POLYGON ((1000830.038678393 241801.5896092206,...  60778   \n",
       "\n",
       "   non_whiteFraction  treehealth  ntrees  \n",
       "0           0.603399    1.596282    1506  \n",
       "1           0.586693    1.628510    1852  \n",
       "2           0.636866    1.627154    1451  \n",
       "3           0.684629    1.631274    2072  \n",
       "4           0.708957    1.727199    2456  "
      ]
     },
     "execution_count": 238,
     "metadata": {},
     "output_type": "execute_result"
    }
   ],
   "source": [
    "treepp.head()"
   ]
  },
  {
   "cell_type": "code",
   "execution_count": 239,
   "metadata": {},
   "outputs": [],
   "source": [
    "treepp['treepp'] = treepp.ntrees/treepp.total"
   ]
  },
  {
   "cell_type": "code",
   "execution_count": 240,
   "metadata": {},
   "outputs": [
    {
     "data": {
      "text/html": [
       "<div>\n",
       "<table border=\"1\" class=\"dataframe\">\n",
       "  <thead>\n",
       "    <tr style=\"text-align: right;\">\n",
       "      <th></th>\n",
       "      <th>ZIPCODE</th>\n",
       "      <th>geometry</th>\n",
       "      <th>total</th>\n",
       "      <th>non_whiteFraction</th>\n",
       "      <th>treehealth</th>\n",
       "      <th>ntrees</th>\n",
       "      <th>treepp</th>\n",
       "    </tr>\n",
       "  </thead>\n",
       "  <tbody>\n",
       "    <tr>\n",
       "      <th>0</th>\n",
       "      <td>10034</td>\n",
       "      <td>POLYGON ((1006203.169008225 257345.6566181332,...</td>\n",
       "      <td>43951</td>\n",
       "      <td>0.603399</td>\n",
       "      <td>1.596282</td>\n",
       "      <td>1506</td>\n",
       "      <td>0.034265</td>\n",
       "    </tr>\n",
       "    <tr>\n",
       "      <th>1</th>\n",
       "      <td>10033</td>\n",
       "      <td>POLYGON ((1003020.86467731 256049.1618358046, ...</td>\n",
       "      <td>59353</td>\n",
       "      <td>0.586693</td>\n",
       "      <td>1.628510</td>\n",
       "      <td>1852</td>\n",
       "      <td>0.031203</td>\n",
       "    </tr>\n",
       "    <tr>\n",
       "      <th>2</th>\n",
       "      <td>10040</td>\n",
       "      <td>POLYGON ((1002564.135275811 253724.7731118798,...</td>\n",
       "      <td>45033</td>\n",
       "      <td>0.636866</td>\n",
       "      <td>1.627154</td>\n",
       "      <td>1451</td>\n",
       "      <td>0.032221</td>\n",
       "    </tr>\n",
       "    <tr>\n",
       "      <th>3</th>\n",
       "      <td>10032</td>\n",
       "      <td>POLYGON ((998935.8528342247 249154.259943217, ...</td>\n",
       "      <td>63189</td>\n",
       "      <td>0.684629</td>\n",
       "      <td>1.631274</td>\n",
       "      <td>2072</td>\n",
       "      <td>0.032791</td>\n",
       "    </tr>\n",
       "    <tr>\n",
       "      <th>4</th>\n",
       "      <td>10031</td>\n",
       "      <td>POLYGON ((1000830.038678393 241801.5896092206,...</td>\n",
       "      <td>60778</td>\n",
       "      <td>0.708957</td>\n",
       "      <td>1.727199</td>\n",
       "      <td>2456</td>\n",
       "      <td>0.040409</td>\n",
       "    </tr>\n",
       "  </tbody>\n",
       "</table>\n",
       "</div>"
      ],
      "text/plain": [
       "   ZIPCODE                                           geometry  total  \\\n",
       "0    10034  POLYGON ((1006203.169008225 257345.6566181332,...  43951   \n",
       "1    10033  POLYGON ((1003020.86467731 256049.1618358046, ...  59353   \n",
       "2    10040  POLYGON ((1002564.135275811 253724.7731118798,...  45033   \n",
       "3    10032  POLYGON ((998935.8528342247 249154.259943217, ...  63189   \n",
       "4    10031  POLYGON ((1000830.038678393 241801.5896092206,...  60778   \n",
       "\n",
       "   non_whiteFraction  treehealth  ntrees    treepp  \n",
       "0           0.603399    1.596282    1506  0.034265  \n",
       "1           0.586693    1.628510    1852  0.031203  \n",
       "2           0.636866    1.627154    1451  0.032221  \n",
       "3           0.684629    1.631274    2072  0.032791  \n",
       "4           0.708957    1.727199    2456  0.040409  "
      ]
     },
     "execution_count": 240,
     "metadata": {},
     "output_type": "execute_result"
    }
   ],
   "source": [
    "treepp.head()"
   ]
  },
  {
   "cell_type": "code",
   "execution_count": 241,
   "metadata": {
    "ExecuteTime": {
     "end_time": "2018-10-28T05:06:44.173140Z",
     "start_time": "2018-10-28T05:06:44.125953Z"
    },
    "run_control": {
     "frozen": false,
     "read_only": false
    }
   },
   "outputs": [
    {
     "data": {
      "text/html": [
       "<div>\n",
       "<table border=\"1\" class=\"dataframe\">\n",
       "  <thead>\n",
       "    <tr style=\"text-align: right;\">\n",
       "      <th></th>\n",
       "      <th>ZIPCODE</th>\n",
       "      <th>geometry</th>\n",
       "      <th>total</th>\n",
       "      <th>non_whiteFraction</th>\n",
       "      <th>treehealth</th>\n",
       "      <th>ntrees</th>\n",
       "      <th>treepp</th>\n",
       "    </tr>\n",
       "  </thead>\n",
       "  <tbody>\n",
       "    <tr>\n",
       "      <th>0</th>\n",
       "      <td>10034</td>\n",
       "      <td>POLYGON ((1006203.169008225 257345.6566181332,...</td>\n",
       "      <td>43951</td>\n",
       "      <td>0.603399</td>\n",
       "      <td>1.596282</td>\n",
       "      <td>1506</td>\n",
       "      <td>0.034265</td>\n",
       "    </tr>\n",
       "    <tr>\n",
       "      <th>1</th>\n",
       "      <td>10033</td>\n",
       "      <td>POLYGON ((1003020.86467731 256049.1618358046, ...</td>\n",
       "      <td>59353</td>\n",
       "      <td>0.586693</td>\n",
       "      <td>1.628510</td>\n",
       "      <td>1852</td>\n",
       "      <td>0.031203</td>\n",
       "    </tr>\n",
       "    <tr>\n",
       "      <th>2</th>\n",
       "      <td>10040</td>\n",
       "      <td>POLYGON ((1002564.135275811 253724.7731118798,...</td>\n",
       "      <td>45033</td>\n",
       "      <td>0.636866</td>\n",
       "      <td>1.627154</td>\n",
       "      <td>1451</td>\n",
       "      <td>0.032221</td>\n",
       "    </tr>\n",
       "    <tr>\n",
       "      <th>3</th>\n",
       "      <td>10032</td>\n",
       "      <td>POLYGON ((998935.8528342247 249154.259943217, ...</td>\n",
       "      <td>63189</td>\n",
       "      <td>0.684629</td>\n",
       "      <td>1.631274</td>\n",
       "      <td>2072</td>\n",
       "      <td>0.032791</td>\n",
       "    </tr>\n",
       "    <tr>\n",
       "      <th>4</th>\n",
       "      <td>10031</td>\n",
       "      <td>POLYGON ((1000830.038678393 241801.5896092206,...</td>\n",
       "      <td>60778</td>\n",
       "      <td>0.708957</td>\n",
       "      <td>1.727199</td>\n",
       "      <td>2456</td>\n",
       "      <td>0.040409</td>\n",
       "    </tr>\n",
       "  </tbody>\n",
       "</table>\n",
       "</div>"
      ],
      "text/plain": [
       "   ZIPCODE                                           geometry  total  \\\n",
       "0    10034  POLYGON ((1006203.169008225 257345.6566181332,...  43951   \n",
       "1    10033  POLYGON ((1003020.86467731 256049.1618358046, ...  59353   \n",
       "2    10040  POLYGON ((1002564.135275811 253724.7731118798,...  45033   \n",
       "3    10032  POLYGON ((998935.8528342247 249154.259943217, ...  63189   \n",
       "4    10031  POLYGON ((1000830.038678393 241801.5896092206,...  60778   \n",
       "\n",
       "   non_whiteFraction  treehealth  ntrees    treepp  \n",
       "0           0.603399    1.596282    1506  0.034265  \n",
       "1           0.586693    1.628510    1852  0.031203  \n",
       "2           0.636866    1.627154    1451  0.032221  \n",
       "3           0.684629    1.631274    2072  0.032791  \n",
       "4           0.708957    1.727199    2456  0.040409  "
      ]
     },
     "execution_count": 241,
     "metadata": {},
     "output_type": "execute_result"
    }
   ],
   "source": [
    "# final daaframe\n",
    "treepp.head()"
   ]
  },
  {
   "cell_type": "code",
   "execution_count": 245,
   "metadata": {},
   "outputs": [
    {
     "name": "stderr",
     "output_type": "stream",
     "text": [
      "/usr/local/Anaconda3-5.0.0-Linux-x86_64/envs/PUI2016_Python3/lib/python3.5/site-packages/numpy/lib/function_base.py:3403: RuntimeWarning: Invalid value encountered in median\n",
      "  RuntimeWarning)\n"
     ]
    },
    {
     "data": {
      "text/html": [
       "<div>\n",
       "<table border=\"1\" class=\"dataframe\">\n",
       "  <thead>\n",
       "    <tr style=\"text-align: right;\">\n",
       "      <th></th>\n",
       "      <th>ZIPCODE</th>\n",
       "      <th>total</th>\n",
       "      <th>non_whiteFraction</th>\n",
       "      <th>treehealth</th>\n",
       "      <th>ntrees</th>\n",
       "      <th>treepp</th>\n",
       "    </tr>\n",
       "  </thead>\n",
       "  <tbody>\n",
       "    <tr>\n",
       "      <th>count</th>\n",
       "      <td>50.000000</td>\n",
       "      <td>50.00000</td>\n",
       "      <td>47.000000</td>\n",
       "      <td>50.000000</td>\n",
       "      <td>50.000000</td>\n",
       "      <td>50.000000</td>\n",
       "    </tr>\n",
       "    <tr>\n",
       "      <th>mean</th>\n",
       "      <td>10039.380000</td>\n",
       "      <td>33116.96000</td>\n",
       "      <td>0.403057</td>\n",
       "      <td>1.705934</td>\n",
       "      <td>1272.660000</td>\n",
       "      <td>inf</td>\n",
       "    </tr>\n",
       "    <tr>\n",
       "      <th>std</th>\n",
       "      <td>57.151746</td>\n",
       "      <td>24247.44354</td>\n",
       "      <td>0.232947</td>\n",
       "      <td>0.107324</td>\n",
       "      <td>929.716319</td>\n",
       "      <td>NaN</td>\n",
       "    </tr>\n",
       "    <tr>\n",
       "      <th>min</th>\n",
       "      <td>10001.000000</td>\n",
       "      <td>0.00000</td>\n",
       "      <td>0.110793</td>\n",
       "      <td>1.346154</td>\n",
       "      <td>7.000000</td>\n",
       "      <td>0.014648</td>\n",
       "    </tr>\n",
       "    <tr>\n",
       "      <th>25%</th>\n",
       "      <td>10011.250000</td>\n",
       "      <td>9724.25000</td>\n",
       "      <td>NaN</td>\n",
       "      <td>1.639039</td>\n",
       "      <td>368.250000</td>\n",
       "      <td>0.032404</td>\n",
       "    </tr>\n",
       "    <tr>\n",
       "      <th>50%</th>\n",
       "      <td>10024.500000</td>\n",
       "      <td>30310.00000</td>\n",
       "      <td>NaN</td>\n",
       "      <td>1.702118</td>\n",
       "      <td>1382.000000</td>\n",
       "      <td>0.038436</td>\n",
       "    </tr>\n",
       "    <tr>\n",
       "      <th>75%</th>\n",
       "      <td>10035.750000</td>\n",
       "      <td>50434.00000</td>\n",
       "      <td>NaN</td>\n",
       "      <td>1.803218</td>\n",
       "      <td>1881.000000</td>\n",
       "      <td>0.045247</td>\n",
       "    </tr>\n",
       "    <tr>\n",
       "      <th>max</th>\n",
       "      <td>10282.000000</td>\n",
       "      <td>94717.00000</td>\n",
       "      <td>0.892552</td>\n",
       "      <td>1.930435</td>\n",
       "      <td>3570.000000</td>\n",
       "      <td>inf</td>\n",
       "    </tr>\n",
       "  </tbody>\n",
       "</table>\n",
       "</div>"
      ],
      "text/plain": [
       "            ZIPCODE        total  non_whiteFraction  treehealth       ntrees  \\\n",
       "count     50.000000     50.00000          47.000000   50.000000    50.000000   \n",
       "mean   10039.380000  33116.96000           0.403057    1.705934  1272.660000   \n",
       "std       57.151746  24247.44354           0.232947    0.107324   929.716319   \n",
       "min    10001.000000      0.00000           0.110793    1.346154     7.000000   \n",
       "25%    10011.250000   9724.25000                NaN    1.639039   368.250000   \n",
       "50%    10024.500000  30310.00000                NaN    1.702118  1382.000000   \n",
       "75%    10035.750000  50434.00000                NaN    1.803218  1881.000000   \n",
       "max    10282.000000  94717.00000           0.892552    1.930435  3570.000000   \n",
       "\n",
       "          treepp  \n",
       "count  50.000000  \n",
       "mean         inf  \n",
       "std          NaN  \n",
       "min     0.014648  \n",
       "25%     0.032404  \n",
       "50%     0.038436  \n",
       "75%     0.045247  \n",
       "max          inf  "
      ]
     },
     "execution_count": 245,
     "metadata": {},
     "output_type": "execute_result"
    }
   ],
   "source": [
    "treepp.describe()"
   ]
  },
  {
   "cell_type": "code",
   "execution_count": 246,
   "metadata": {},
   "outputs": [],
   "source": [
    "#I'm going to drop Nans and Infinity values\n",
    "treepp.replace(np.inf, np.nan, inplace=True)\n",
    "treepp.dropna(inplace=True)"
   ]
  },
  {
   "cell_type": "markdown",
   "metadata": {
    "run_control": {
     "frozen": false,
     "read_only": false
    }
   },
   "source": [
    "# 7 Make a map for each of the variables: population diversity, number of trees per person, average tree health.\n",
    "\n",
    "Each map should be a choropleth of the relevant variable.\n",
    "\n",
    "_your deliverable is a series of 3 plots and appropriate comments_\n",
    "(They do not have to be in a single line, and you do not need the zipcode one, but please try to pay as much attention as you can given the time constraints to your plot design. I chose to put them in a single line designing them as a \"small multiple\" plot like Tufte recommands)\n",
    "\n",
    "[hints](https://docs.google.com/document/d/1a009HzGw_1j9dlqyD5Zg9aibUgpYmXMlJqiA5XUzZos/edit#heading=h.174i5wa5g9nj)"
   ]
  },
  {
   "cell_type": "code",
   "execution_count": 247,
   "metadata": {},
   "outputs": [
    {
     "data": {
      "image/png": "[encoded data removed]",
      "text/plain": [
       "<matplotlib.figure.Figure at 0x7f148f2bea58>"
      ]
     },
     "metadata": {},
     "output_type": "display_data"
    }
   ],
   "source": [
    "fig, (ax1, ax2, ax3, ax4) = plt.subplots(ncols=4, figsize  = (20, 4))\n",
    "\n",
    "#zipcode\n",
    "treepp.plot(color='white', edgecolor='black', figsize=(12,12), lw=0.5, ax=ax1)\n",
    "ax1.axis('off')\n",
    "ax1.set_title('zipcode', fontsize=15)\n",
    "ax1.axes.set_aspect('auto')\n",
    "\n",
    "#diversity\n",
    "treepp.plot(column='non_whiteFraction', ax=ax2, legend=False, cmap='viridis')\n",
    "\n",
    "ax2.set_title(\"diversity\", fontsize=12)\n",
    "ax2.axis('off')\n",
    "ax2.axes.set_aspect('auto')\n",
    "\n",
    "#trees per person\n",
    "treepp.plot(column='treepp', ax=ax3, legend=False, cmap='viridis')\n",
    "\n",
    "ax3.set_title(\"trees per person\", fontsize=12)\n",
    "ax3.axis('off')\n",
    "ax3.axes.set_aspect('auto')\n",
    "\n",
    "#tree health\n",
    "treepp.plot(column='treehealth', ax=ax4, legend=False, cmap='viridis')\n",
    "\n",
    "ax4.set_title(\"tree health\", fontsize=12)\n",
    "ax4.axis('off')\n",
    "ax4.axes.set_aspect('auto')\n",
    "\n",
    "#leg = ax.get_legend()\n",
    "#leg.set_bbox_to_anchor((0.35, 0.95, 0, 0))\n",
    "\n",
    "#Correct aspect ratio\n",
    "\n",
    "plt.show()"
   ]
  },
  {
   "cell_type": "markdown",
   "metadata": {
    "run_control": {
     "frozen": false,
     "read_only": false
    }
   },
   "source": [
    "# 8 plot the distribution of tree numbers by area, tree average tree health, and population diversity by zipcode\n",
    "Consider using this visualization to remove outliers if you see any [hint](https://docs.google.com/document/d/1a009HzGw_1j9dlqyD5Zg9aibUgpYmXMlJqiA5XUzZos/edit#heading=h.174i5wa5g9nj)\n",
    "\n",
    "_your deliverable is a series of 3 plots and appropriate comments_"
   ]
  },
  {
   "cell_type": "code",
   "execution_count": 249,
   "metadata": {},
   "outputs": [
    {
     "data": {
      "image/png": "[encoded data removed]",
      "text/plain": [
       "<matplotlib.figure.Figure at 0x7f148d42d080>"
      ]
     },
     "metadata": {},
     "output_type": "display_data"
    }
   ],
   "source": [
    "fig, (ax1, ax2, ax3) = plt.subplots(ncols=3, figsize  = (20, 4))\n",
    "\n",
    "ax1.set_ylabel('Count', fontsize=18)\n",
    "#ax1.set_xlabel('Trip duration', fontsize=18)\n",
    "ax1.set_title('diversity', fontsize=18)\n",
    "ax1.hist(treepp.non_whiteFraction, alpha=0.5, bins=20)\n",
    "\n",
    "ax2.set_title('trees per person', fontsize=18)\n",
    "ax2.hist(treepp.treepp, alpha=0.5, bins=20)\n",
    "\n",
    "ax3.set_title('tree health average', fontsize=18)\n",
    "ax3.hist(treepp.treehealth, alpha=0.5, bins=20)\n",
    "\n",
    "#ax.legend()\n",
    "\n",
    "plt.show()"
   ]
  },
  {
   "cell_type": "markdown",
   "metadata": {
    "run_control": {
     "frozen": false,
     "read_only": false
    }
   },
   "source": [
    "# 9  Assess which of these distributions is most consistent with a Gaussian.\n",
    "\n",
    "You used statistical tests that answer the question \"can you reject the null hypothesis that a sample comes from a Standard Normal distriobution?\"  \n",
    "\n",
    "You do not need to frame this as a null hypothesis rejection test, but you can use the same test to compare how close to a Gaussian distribution each distribution is. \n",
    "\n",
    "Your deliverable for this portion is a test reault (or the results of a few tests) and its interpretation that shows which of the three distributions is closer to a Gaussian\n",
    "\n",
    "What does the fact that some of these features are highly non Gaussian tell you?\n",
    "\n",
    "[hints](https://docs.google.com/document/d/1a009HzGw_1j9dlqyD5Zg9aibUgpYmXMlJqiA5XUzZos/edit#heading=h.dk2we21e8881)"
   ]
  },
  {
   "cell_type": "code",
   "execution_count": 250,
   "metadata": {},
   "outputs": [],
   "source": [
    "#Function to evaluate\n",
    "def evalNullHypothesis(p, statistic, test, hypothesis=None,alpha=0.05):\n",
    "    if hypothesis:\n",
    "        print (\"The Null Hypothesis that {}\".format(hypothesis))\n",
    "    else:\n",
    "        print (\"The Null Hypothesis\")\n",
    "    if p < alpha :\n",
    "        print (\"can be rejected at alpha = {}\".format(alpha))\n",
    "    else: \n",
    "        print (\"cannot be rejected (p<0.05)\")\n",
    "    print (\"with a {} statistics of {:.2f} and a p-value of {}\".format(test, statistic, p))"
   ]
  },
  {
   "cell_type": "code",
   "execution_count": 251,
   "metadata": {},
   "outputs": [],
   "source": [
    "non_whiteFraction = treepp.non_whiteFraction"
   ]
  },
  {
   "cell_type": "code",
   "execution_count": 252,
   "metadata": {},
   "outputs": [],
   "source": [
    "#normalize data\n",
    "non_whiteFraction_normalized = (non_whiteFraction.values - non_whiteFraction.values.mean()) / non_whiteFraction.values.std()"
   ]
  },
  {
   "cell_type": "code",
   "execution_count": 253,
   "metadata": {},
   "outputs": [
    {
     "data": {
      "text/plain": [
       "KstestResult(statistic=0.2011474328583942, pvalue=0.03830570663945454)"
      ]
     },
     "execution_count": 253,
     "metadata": {},
     "output_type": "execute_result"
    }
   ],
   "source": [
    "#Returns Statistics and P-value\n",
    "sp.stats.kstest(non_whiteFraction_normalized, \"norm\")"
   ]
  },
  {
   "cell_type": "code",
   "execution_count": 254,
   "metadata": {},
   "outputs": [
    {
     "name": "stdout",
     "output_type": "stream",
     "text": [
      "The Null Hypothesis that the distribution of diversity by zipcode comes from a gaussian distribution\n",
      "can be rejected at alpha = 0.05\n",
      "with a KS statistics of 0.20 and a p-value of 0.03830570663945454\n"
     ]
    }
   ],
   "source": [
    "#Null hypothesis\n",
    "hypothesis = \"the distribution of diversity by zipcode comes from a gaussian distribution\"\n",
    "\n",
    "#Get statistics\n",
    "(ks, p) = sp.stats.kstest(non_whiteFraction_normalized, \"norm\")\n",
    "\n",
    "#Test null hypothesis\n",
    "evalNullHypothesis(p, ks, \"KS\", hypothesis)"
   ]
  },
  {
   "cell_type": "code",
   "execution_count": 255,
   "metadata": {},
   "outputs": [],
   "source": [
    "treepp_data = treepp.treepp"
   ]
  },
  {
   "cell_type": "code",
   "execution_count": 256,
   "metadata": {},
   "outputs": [],
   "source": [
    "#normalize data\n",
    "treepp_data_normalized = (treepp_data.values - treepp_data.values.mean()) / treepp_data.values.std()"
   ]
  },
  {
   "cell_type": "code",
   "execution_count": 257,
   "metadata": {},
   "outputs": [
    {
     "data": {
      "text/plain": [
       "KstestResult(statistic=0.1243274185775296, pvalue=0.43126911576435178)"
      ]
     },
     "execution_count": 257,
     "metadata": {},
     "output_type": "execute_result"
    }
   ],
   "source": [
    "#Returns Statistics and P-value\n",
    "sp.stats.kstest(treepp_data_normalized, \"norm\")"
   ]
  },
  {
   "cell_type": "code",
   "execution_count": 258,
   "metadata": {},
   "outputs": [
    {
     "name": "stdout",
     "output_type": "stream",
     "text": [
      "The Null Hypothesis that the distribution of trees per person by zipcode comes from a gaussian distribution\n",
      "cannot be rejected (p<0.05)\n",
      "with a KS statistics of 0.12 and a p-value of 0.4312691157643518\n"
     ]
    }
   ],
   "source": [
    "#Null hypothesis\n",
    "hypothesis = \"the distribution of trees per person by zipcode comes from a gaussian distribution\"\n",
    "\n",
    "#Get statistics\n",
    "(ks, p) = sp.stats.kstest(treepp_data_normalized, \"norm\")\n",
    "\n",
    "#Test null hypothesis\n",
    "evalNullHypothesis(p, ks, \"KS\", hypothesis)"
   ]
  },
  {
   "cell_type": "code",
   "execution_count": 259,
   "metadata": {},
   "outputs": [],
   "source": [
    "treehealth_data = treepp.treehealth"
   ]
  },
  {
   "cell_type": "code",
   "execution_count": 260,
   "metadata": {},
   "outputs": [],
   "source": [
    "#normalize data\n",
    "treehealth_data_normalized = (treehealth_data.values - treehealth_data.values.mean()) / treehealth_data.values.std()"
   ]
  },
  {
   "cell_type": "code",
   "execution_count": 261,
   "metadata": {},
   "outputs": [
    {
     "data": {
      "text/plain": [
       "KstestResult(statistic=0.099430807022598544, pvalue=0.74071392992846752)"
      ]
     },
     "execution_count": 261,
     "metadata": {},
     "output_type": "execute_result"
    }
   ],
   "source": [
    "#Returns Statistics and P-value\n",
    "sp.stats.kstest(treehealth_data_normalized, \"norm\")"
   ]
  },
  {
   "cell_type": "code",
   "execution_count": 262,
   "metadata": {},
   "outputs": [
    {
     "name": "stdout",
     "output_type": "stream",
     "text": [
      "The Null Hypothesis that the distribution of tree health by zipcode comes from a gaussian distribution\n",
      "cannot be rejected (p<0.05)\n",
      "with a KS statistics of 0.10 and a p-value of 0.7407139299284675\n"
     ]
    }
   ],
   "source": [
    "#Null hypothesis\n",
    "hypothesis = \"the distribution of tree health by zipcode comes from a gaussian distribution\"\n",
    "\n",
    "#Get statistics\n",
    "(ks, p) = sp.stats.kstest(treehealth_data_normalized, \"norm\")\n",
    "\n",
    "#Test null hypothesis\n",
    "evalNullHypothesis(p, ks, \"KS\", hypothesis)"
   ]
  },
  {
   "cell_type": "markdown",
   "metadata": {},
   "source": [
    "**ANSWER:** From the code above we can see that using a KS test of fitness, we get that only the distribution of diversity by zipcode is not Gaussian, with a significance of 0.05. This may indicate that the distribution of diversity across Manhattan zipcodes is biased."
   ]
  },
  {
   "cell_type": "markdown",
   "metadata": {
    "run_control": {
     "frozen": false,
     "read_only": false
    }
   },
   "source": [
    "# 10 Measure correlation between trees health and population diversity and the number of trees per person and population diversity\n",
    "   \n",
    "_your deliverable is a measure of correlation for each variable and an explanation of what they mean_\n",
    "\n"
   ]
  },
  {
   "cell_type": "code",
   "execution_count": 263,
   "metadata": {},
   "outputs": [
    {
     "data": {
      "text/plain": [
       "(0.015839270598569998, 0.91584332018706083)"
      ]
     },
     "execution_count": 263,
     "metadata": {},
     "output_type": "execute_result"
    }
   ],
   "source": [
    "#Returns Statistics and P-value (needs to be sorted)\n",
    "sp.stats.pearsonr(treepp.treehealth,treepp_nonan.non_whiteFraction)"
   ]
  },
  {
   "cell_type": "code",
   "execution_count": 265,
   "metadata": {},
   "outputs": [
    {
     "name": "stdout",
     "output_type": "stream",
     "text": [
      "The Null Hypothesis that the distribution of trees health and population diversity are uncorrelated\n",
      "cannot be rejected (p<0.05)\n",
      "with a Pearson r statistics of 0.02 and a p-value of 0.9158433201870608\n"
     ]
    }
   ],
   "source": [
    "#Null hypothesis\n",
    "hypothesis = \"the distribution of trees health and population diversity are uncorrelated\"\n",
    "\n",
    "#Get statistics\n",
    "(r, p) = sp.stats.pearsonr(treepp.treehealth,treepp.non_whiteFraction)\n",
    "\n",
    "#Test null hypothesis\n",
    "evalNullHypothesis(p, r, \"Pearson r\", hypothesis)"
   ]
  },
  {
   "cell_type": "code",
   "execution_count": 266,
   "metadata": {},
   "outputs": [
    {
     "data": {
      "text/plain": [
       "(-0.14853062961339925, 0.31905790557481517)"
      ]
     },
     "execution_count": 266,
     "metadata": {},
     "output_type": "execute_result"
    }
   ],
   "source": [
    "#Returns Statistics and P-value (needs to be sorted)\n",
    "sp.stats.pearsonr(treepp.treepp,treepp.non_whiteFraction)"
   ]
  },
  {
   "cell_type": "code",
   "execution_count": 267,
   "metadata": {},
   "outputs": [
    {
     "name": "stdout",
     "output_type": "stream",
     "text": [
      "The Null Hypothesis that the distribution of number of trees per person and population diversity are uncorrelated\n",
      "cannot be rejected (p<0.05)\n",
      "with a Pearson r statistics of -0.15 and a p-value of 0.31905790557481517\n"
     ]
    }
   ],
   "source": [
    "#Null hypothesis\n",
    "hypothesis = \"the distribution of number of trees per person and population diversity are uncorrelated\"\n",
    "\n",
    "#Get statistics\n",
    "(r, p) = sp.stats.pearsonr(treepp.treepp,treepp.non_whiteFraction)\n",
    "\n",
    "#Test null hypothesis\n",
    "evalNullHypothesis(p, r, \"Pearson r\", hypothesis)"
   ]
  },
  {
   "cell_type": "markdown",
   "metadata": {
    "run_control": {
     "frozen": false,
     "read_only": false
    }
   },
   "source": [
    "# 11 Based on the result in 10, choose either tree health or trees per person and assess if the distribution of this variable is consistent with the population diversity.\n",
    "\n",
    "This must be a test which returns a rejection (or non rejection) of a hypothesis. \n",
    "\n",
    "_your deliverable is Null hypothesis rejection test and a description of what it means_\n",
    "\n",
    "[hints](https://docs.google.com/document/d/1a009HzGw_1j9dlqyD5Zg9aibUgpYmXMlJqiA5XUzZos/edit#heading=h.ehszhe99hr1l)"
   ]
  },
  {
   "cell_type": "markdown",
   "metadata": {},
   "source": [
    "For some reason in 10, I got that they are not correlated for both cases, I'll choose the one with lower p-value."
   ]
  },
  {
   "cell_type": "code",
   "execution_count": 268,
   "metadata": {},
   "outputs": [
    {
     "data": {
      "text/plain": [
       "Ks_2sampResult(statistic=1.0, pvalue=4.6758515658443521e-22)"
      ]
     },
     "execution_count": 268,
     "metadata": {},
     "output_type": "execute_result"
    }
   ],
   "source": [
    "#Returns Statistics and P-value\n",
    "sp.stats.ks_2samp(treepp.treepp, treepp.non_whiteFraction)"
   ]
  },
  {
   "cell_type": "code",
   "execution_count": 269,
   "metadata": {},
   "outputs": [
    {
     "name": "stdout",
     "output_type": "stream",
     "text": [
      "The Null Hypothesis that the distribution of number of trees per person and population diversity come from the same parent distribution\n",
      "can be rejected at alpha = 0.05\n",
      "with a KS statistics of 1.00 and a p-value of 4.675851565844352e-22\n"
     ]
    }
   ],
   "source": [
    "#Null hypothesis\n",
    "hypothesis = \"the distribution of number of trees per person and population diversity come from the same parent distribution\"\n",
    "\n",
    "#Get statistics\n",
    "(ks, p) = sp.stats.ks_2samp(treepp.treepp, treepp.non_whiteFraction)\n",
    "\n",
    "#Test null hypothesis\n",
    "evalNullHypothesis(p, ks, \"KS\", hypothesis)"
   ]
  },
  {
   "cell_type": "markdown",
   "metadata": {
    "run_control": {
     "frozen": false,
     "read_only": false
    }
   },
   "source": [
    "# Based on all this analysis, what can you say about equity in distribution of trees? What are the weaknesses of the analysis? What could be done better?"
   ]
  },
  {
   "cell_type": "markdown",
   "metadata": {
    "run_control": {
     "frozen": false,
     "read_only": false
    }
   },
   "source": [
    "# EC:  A more appropriate analysis would be an analysis of the spatial correlation of these variables. Measure the spatial correlation of number of trees per person and/or of tree health with the population diversity"
   ]
  },
  {
   "cell_type": "code",
   "execution_count": null,
   "metadata": {},
   "outputs": [],
   "source": []
  }
 ],
 "metadata": {
  "kernelspec": {
   "display_name": "Python 3",
   "language": "python",
   "name": "python3"
  },
  "language_info": {
   "codemirror_mode": {
    "name": "ipython",
    "version": 3
   },
   "file_extension": ".py",
   "mimetype": "text/x-python",
   "name": "python",
   "nbconvert_exporter": "python",
   "pygments_lexer": "ipython3",
   "version": "3.6.7"
  },
  "toc": {
   "colors": {
    "hover_highlight": "#DAA520",
    "running_highlight": "#FF0000",
    "selected_highlight": "#FFD700"
   },
   "moveMenuLeft": true,
   "nav_menu": {
    "height": "13px",
    "width": "251px"
   },
   "navigate_menu": true,
   "number_sections": false,
   "sideBar": true,
   "threshold": 4,
   "toc_cell": false,
   "toc_section_display": "block",
   "toc_window_display": true
  }
 },
 "nbformat": 4,
 "nbformat_minor": 2
}
